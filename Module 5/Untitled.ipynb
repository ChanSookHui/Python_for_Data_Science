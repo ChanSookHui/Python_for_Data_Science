{
 "cells": [
  {
   "cell_type": "code",
   "execution_count": 1,
   "id": "572e620b-f81f-470c-b778-eba605a03b3f",
   "metadata": {},
   "outputs": [],
   "source": [
    "A='1234567'"
   ]
  },
  {
   "cell_type": "code",
   "execution_count": 2,
   "id": "299d83d9-56b5-4ffa-b575-e90e004f592b",
   "metadata": {},
   "outputs": [
    {
     "data": {
      "text/plain": [
       "'246'"
      ]
     },
     "execution_count": 2,
     "metadata": {},
     "output_type": "execute_result"
    }
   ],
   "source": [
    "A[1::2]"
   ]
  },
  {
   "cell_type": "code",
   "execution_count": 3,
   "id": "359718dc-4e48-4757-b2ba-de80d68ffc9f",
   "metadata": {},
   "outputs": [
    {
     "data": {
      "text/plain": [
       "5"
      ]
     },
     "execution_count": 3,
     "metadata": {},
     "output_type": "execute_result"
    }
   ],
   "source": [
    "Name=\"Michael Jackson\"\n",
    "Name.find('el')"
   ]
  },
  {
   "cell_type": "code",
   "execution_count": 4,
   "id": "d7cc02fb-77d3-4fbf-8ccc-a30b1b8317d4",
   "metadata": {},
   "outputs": [],
   "source": [
    "A=((11,12),[21,22])"
   ]
  },
  {
   "cell_type": "code",
   "execution_count": 7,
   "id": "09fb5cfd-a70e-4f48-8e07-d5e73ca12155",
   "metadata": {},
   "outputs": [
    {
     "data": {
      "text/plain": [
       "12"
      ]
     },
     "execution_count": 7,
     "metadata": {},
     "output_type": "execute_result"
    }
   ],
   "source": [
    "A[0][1]"
   ]
  },
  {
   "cell_type": "code",
   "execution_count": null,
   "id": "9ea16c55-32b5-4468-8069-1458f5c39ef5",
   "metadata": {},
   "outputs": [],
   "source": []
  }
 ],
 "metadata": {
  "kernelspec": {
   "display_name": "Python 3 (ipykernel)",
   "language": "python",
   "name": "python3"
  },
  "language_info": {
   "codemirror_mode": {
    "name": "ipython",
    "version": 3
   },
   "file_extension": ".py",
   "mimetype": "text/x-python",
   "name": "python",
   "nbconvert_exporter": "python",
   "pygments_lexer": "ipython3",
   "version": "3.12.7"
  }
 },
 "nbformat": 4,
 "nbformat_minor": 5
}
