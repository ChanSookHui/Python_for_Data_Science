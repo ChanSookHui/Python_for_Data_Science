{
 "cells": [
  {
   "cell_type": "markdown",
   "id": "abb5a889-82b6-461b-83ab-1feb558060d4",
   "metadata": {},
   "source": [
    "## 2D Array Creation"
   ]
  },
  {
   "cell_type": "code",
   "execution_count": 1,
   "id": "b310c48b-e562-492b-acd3-855235607205",
   "metadata": {},
   "outputs": [],
   "source": [
    "import numpy as np"
   ]
  },
  {
   "cell_type": "code",
   "execution_count": 7,
   "id": "b4f0332a-3f9a-4005-abe3-dd6df498c8c8",
   "metadata": {},
   "outputs": [],
   "source": [
    "a=[[1,2,3],[5,6,7],[8,9,10]]"
   ]
  },
  {
   "cell_type": "code",
   "execution_count": 11,
   "id": "c3cefa27-9b49-4f0f-9a09-d08c29203ac9",
   "metadata": {},
   "outputs": [
    {
     "data": {
      "text/plain": [
       "array([[ 1,  2,  3],\n",
       "       [ 5,  6,  7],\n",
       "       [ 8,  9, 10]])"
      ]
     },
     "execution_count": 11,
     "metadata": {},
     "output_type": "execute_result"
    }
   ],
   "source": [
    "A=np.array(a)\n",
    "A"
   ]
  },
  {
   "cell_type": "code",
   "execution_count": 15,
   "id": "040e1ecc-2b66-4c3b-9b39-b8c97ae66876",
   "metadata": {},
   "outputs": [
    {
     "data": {
      "text/plain": [
       "2"
      ]
     },
     "execution_count": 15,
     "metadata": {},
     "output_type": "execute_result"
    }
   ],
   "source": [
    "#Number of dimension - number of nested lists (a list contain another set of list)\n",
    "A.ndim"
   ]
  },
  {
   "cell_type": "code",
   "execution_count": 16,
   "id": "c82f3039-ab79-486b-873c-c689cfda42d8",
   "metadata": {},
   "outputs": [
    {
     "data": {
      "text/plain": [
       "(3, 3)"
      ]
     },
     "execution_count": 16,
     "metadata": {},
     "output_type": "execute_result"
    }
   ],
   "source": [
    "#Shape\n",
    "A.shape"
   ]
  },
  {
   "cell_type": "code",
   "execution_count": 18,
   "id": "047bcf4c-0cc0-4e2f-9430-ac258dd11fbf",
   "metadata": {},
   "outputs": [
    {
     "data": {
      "text/plain": [
       "9"
      ]
     },
     "execution_count": 18,
     "metadata": {},
     "output_type": "execute_result"
    }
   ],
   "source": [
    "#Size\n",
    "A.size #3x3"
   ]
  },
  {
   "cell_type": "markdown",
   "id": "1e8447c1-ee66-4416-be50-235669f38f5d",
   "metadata": {},
   "source": [
    "## Indexing and Slicing"
   ]
  },
  {
   "cell_type": "code",
   "execution_count": 22,
   "id": "e5896fea-849b-4cac-8e7d-a70183b816eb",
   "metadata": {},
   "outputs": [
    {
     "data": {
      "text/plain": [
       "6"
      ]
     },
     "execution_count": 22,
     "metadata": {},
     "output_type": "execute_result"
    }
   ],
   "source": [
    "#Index A[row][col]/A[row,col]\n",
    "A[1][1]"
   ]
  },
  {
   "cell_type": "code",
   "execution_count": 23,
   "id": "76fada22-5bc0-4ce4-bb06-56d57e724d6e",
   "metadata": {},
   "outputs": [
    {
     "data": {
      "text/plain": [
       "3"
      ]
     },
     "execution_count": 23,
     "metadata": {},
     "output_type": "execute_result"
    }
   ],
   "source": [
    "A[0][2]"
   ]
  },
  {
   "cell_type": "code",
   "execution_count": 24,
   "id": "0868fbd9-032b-4cc1-84ca-20850c398b7b",
   "metadata": {},
   "outputs": [
    {
     "data": {
      "text/plain": [
       "3"
      ]
     },
     "execution_count": 24,
     "metadata": {},
     "output_type": "execute_result"
    }
   ],
   "source": [
    "A[0,2]"
   ]
  },
  {
   "cell_type": "code",
   "execution_count": 25,
   "id": "0f084093-65b9-44f6-9a0d-a1a15414f5aa",
   "metadata": {},
   "outputs": [
    {
     "data": {
      "text/plain": [
       "array([1, 2])"
      ]
     },
     "execution_count": 25,
     "metadata": {},
     "output_type": "execute_result"
    }
   ],
   "source": [
    "#Slicing\n",
    "A[0,0:2]"
   ]
  },
  {
   "cell_type": "markdown",
   "id": "53b7e684-487b-4b41-a2c4-1f1d80055242",
   "metadata": {},
   "source": [
    "## Basic Operation"
   ]
  },
  {
   "cell_type": "code",
   "execution_count": 27,
   "id": "e22d0f87-3e5d-4bd4-b986-da17e0897df8",
   "metadata": {},
   "outputs": [
    {
     "data": {
      "text/plain": [
       "array([[3, 1],\n",
       "       [1, 3]])"
      ]
     },
     "execution_count": 27,
     "metadata": {},
     "output_type": "execute_result"
    }
   ],
   "source": [
    "#Add\n",
    "x=np.array([[1,0],[0,1]])\n",
    "y=np.array([[2,1],[1,2]])\n",
    "\n",
    "x+y"
   ]
  },
  {
   "cell_type": "code",
   "execution_count": 28,
   "id": "a218c9b3-30aa-405d-a709-e458a8facbda",
   "metadata": {},
   "outputs": [
    {
     "data": {
      "text/plain": [
       "array([[4, 2],\n",
       "       [2, 4]])"
      ]
     },
     "execution_count": 28,
     "metadata": {},
     "output_type": "execute_result"
    }
   ],
   "source": [
    "#Multiple by scalar\n",
    "2*y"
   ]
  },
  {
   "cell_type": "code",
   "execution_count": 29,
   "id": "f3ff6049-d773-440a-b707-01791ca5cd71",
   "metadata": {},
   "outputs": [
    {
     "data": {
      "text/plain": [
       "array([[2, 0],\n",
       "       [0, 2]])"
      ]
     },
     "execution_count": 29,
     "metadata": {},
     "output_type": "execute_result"
    }
   ],
   "source": [
    "#Product of 2 arrays\n",
    "x*y"
   ]
  },
  {
   "cell_type": "code",
   "execution_count": 34,
   "id": "b804a64e-6767-406e-a276-dbec07dce321",
   "metadata": {},
   "outputs": [
    {
     "data": {
      "text/plain": [
       "array([[14, 14],\n",
       "       [32, 32]])"
      ]
     },
     "execution_count": 34,
     "metadata": {},
     "output_type": "execute_result"
    }
   ],
   "source": [
    "#Matrix multiplication \n",
    "# A=2x3 B=3x1 --> 2x1 (col of A must have same number of row in B)\n",
    "A=np.array([[1,2,3],[4,5,6]]) #2x3\n",
    "B=np.array([[1,1],[2,2],[3,3]]) #3x2\n",
    "C=np.dot(A,B) #[[1*1+2*2+3*3, 1*1+2*2+3*3],[4*1+5*2+6*1, 4*1+5*2+6*1]]\n",
    "C"
   ]
  }
 ],
 "metadata": {
  "kernelspec": {
   "display_name": "Python 3 (ipykernel)",
   "language": "python",
   "name": "python3"
  },
  "language_info": {
   "codemirror_mode": {
    "name": "ipython",
    "version": 3
   },
   "file_extension": ".py",
   "mimetype": "text/x-python",
   "name": "python",
   "nbconvert_exporter": "python",
   "pygments_lexer": "ipython3",
   "version": "3.12.7"
  }
 },
 "nbformat": 4,
 "nbformat_minor": 5
}
