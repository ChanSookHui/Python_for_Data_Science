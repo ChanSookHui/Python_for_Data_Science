{
 "cells": [
  {
   "cell_type": "code",
   "execution_count": 15,
   "id": "2f36131d-5f8d-4e41-8951-2d04166daf7f",
   "metadata": {},
   "outputs": [
    {
     "name": "stdout",
     "output_type": "stream",
     "text": [
      "{'key1': 'Chan', 'key2': [2, 2], 'key3': (1, 0), 'key4': 5, 'key5': 5}\n"
     ]
    }
   ],
   "source": [
    "#Key is the first element\n",
    "#Must be unique and immutable\n",
    "#Seperate by colon\n",
    "#Value can be immutable/mutable/duplicate\n",
    "#Syntax: {'key':value, ...}\n",
    "dic={\"key1\":\"Chan\", \"key2\":[2,2], \"key3\":(1,0), \"key4\":5,(\"key5\"):5}\n",
    "print(dic)"
   ]
  },
  {
   "cell_type": "code",
   "execution_count": 16,
   "id": "776db785-68a8-4c6e-8db5-1044b043f024",
   "metadata": {},
   "outputs": [
    {
     "data": {
      "text/plain": [
       "'Chan'"
      ]
     },
     "execution_count": 16,
     "metadata": {},
     "output_type": "execute_result"
    }
   ],
   "source": [
    "#Return value\n",
    "dic[\"key1\"]"
   ]
  },
  {
   "cell_type": "code",
   "execution_count": 17,
   "id": "72f9b385-cc6a-447a-9c5f-1ebb3d3a1daf",
   "metadata": {},
   "outputs": [
    {
     "name": "stdout",
     "output_type": "stream",
     "text": [
      "{'key1': 'Chan', 'key2': [2, 2], 'key3': (1, 0), 'key4': 5, 'key5': 5, 'key6': '2007'}\n"
     ]
    }
   ],
   "source": [
    "#Adding new entry\n",
    "dic[\"key6\"]=\"2007\"\n",
    "print(dic)"
   ]
  },
  {
   "cell_type": "code",
   "execution_count": 18,
   "id": "ddfb8f97-dc74-4730-acde-939009946c3d",
   "metadata": {},
   "outputs": [
    {
     "name": "stdout",
     "output_type": "stream",
     "text": [
      "{'key2': [2, 2], 'key3': (1, 0), 'key4': 5, 'key5': 5, 'key6': '2007'}\n"
     ]
    }
   ],
   "source": [
    "#Delect\n",
    "del(dic[\"key1\"])\n",
    "print(dic)"
   ]
  },
  {
   "cell_type": "code",
   "execution_count": 20,
   "id": "aa8e4fcb-dbf5-4eda-9cfc-ce93ca26a62e",
   "metadata": {},
   "outputs": [
    {
     "data": {
      "text/plain": [
       "True"
      ]
     },
     "execution_count": 20,
     "metadata": {},
     "output_type": "execute_result"
    }
   ],
   "source": [
    "#Verify if the element exists\n",
    "\"key1\" in dic"
   ]
  },
  {
   "cell_type": "code",
   "execution_count": 21,
   "id": "eeb3847c-ffa2-4115-bc90-2d0cd81d2879",
   "metadata": {},
   "outputs": [
    {
     "data": {
      "text/plain": [
       "True"
      ]
     },
     "execution_count": 21,
     "metadata": {},
     "output_type": "execute_result"
    }
   ],
   "source": [
    "\"key6\" in dic"
   ]
  },
  {
   "cell_type": "code",
   "execution_count": 22,
   "id": "0890e800-fc81-4ebf-9705-c95e3976107f",
   "metadata": {},
   "outputs": [
    {
     "data": {
      "text/plain": [
       "dict_keys(['key2', 'key3', 'key4', 'key5', 'key6'])"
      ]
     },
     "execution_count": 22,
     "metadata": {},
     "output_type": "execute_result"
    }
   ],
   "source": [
    "#Identify the keys\n",
    "dic.keys()"
   ]
  },
  {
   "cell_type": "code",
   "execution_count": 24,
   "id": "8a473037-4f22-4624-aa9d-f8f11485e3a1",
   "metadata": {},
   "outputs": [
    {
     "data": {
      "text/plain": [
       "dict_values([[2, 2], (1, 0), 5, 5, '2007'])"
      ]
     },
     "execution_count": 24,
     "metadata": {},
     "output_type": "execute_result"
    }
   ],
   "source": [
    "#Identify the value\n",
    "dic.values()"
   ]
  },
  {
   "cell_type": "code",
   "execution_count": null,
   "id": "dd07a859-96ab-44d9-87e5-8470c1de6d52",
   "metadata": {},
   "outputs": [],
   "source": []
  }
 ],
 "metadata": {
  "kernelspec": {
   "display_name": "Python 3 (ipykernel)",
   "language": "python",
   "name": "python3"
  },
  "language_info": {
   "codemirror_mode": {
    "name": "ipython",
    "version": 3
   },
   "file_extension": ".py",
   "mimetype": "text/x-python",
   "name": "python",
   "nbconvert_exporter": "python",
   "pygments_lexer": "ipython3",
   "version": "3.12.7"
  }
 },
 "nbformat": 4,
 "nbformat_minor": 5
}
