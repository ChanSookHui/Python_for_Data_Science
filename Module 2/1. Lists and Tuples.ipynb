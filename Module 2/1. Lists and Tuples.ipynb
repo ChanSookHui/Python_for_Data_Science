{
 "cells": [
  {
   "cell_type": "markdown",
   "id": "a3a0a41e-6bf9-46de-9390-e8405e017ea2",
   "metadata": {},
   "source": [
    "## Tuples - An Ordered Sequence"
   ]
  },
  {
   "cell_type": "code",
   "execution_count": 65,
   "id": "36aa5e4d-ee31-480a-9443-71fcd5dd48da",
   "metadata": {},
   "outputs": [],
   "source": [
    "#Seperate with comma in a bracket\n",
    "Rating=(1,2,3)"
   ]
  },
  {
   "cell_type": "code",
   "execution_count": 2,
   "id": "fe978909-a350-4ec8-9cf3-369c04eea3f7",
   "metadata": {},
   "outputs": [
    {
     "data": {
      "text/plain": [
       "tuple"
      ]
     },
     "execution_count": 2,
     "metadata": {},
     "output_type": "execute_result"
    }
   ],
   "source": [
    "#Different type\n",
    "tuples1=(\"Name\",10,1.1)\n",
    "type(tuples1)"
   ]
  },
  {
   "cell_type": "code",
   "execution_count": 3,
   "id": "2aa8f20e-5600-4fa0-b8dd-b56984e48c0f",
   "metadata": {},
   "outputs": [
    {
     "data": {
      "text/plain": [
       "'Name'"
      ]
     },
     "execution_count": 3,
     "metadata": {},
     "output_type": "execute_result"
    }
   ],
   "source": [
    "tuples1[0]"
   ]
  },
  {
   "cell_type": "code",
   "execution_count": 4,
   "id": "b38bd7e3-8de6-4474-8bc8-418aa08bcb92",
   "metadata": {},
   "outputs": [
    {
     "data": {
      "text/plain": [
       "1.1"
      ]
     },
     "execution_count": 4,
     "metadata": {},
     "output_type": "execute_result"
    }
   ],
   "source": [
    "tuples1[-1]"
   ]
  },
  {
   "cell_type": "code",
   "execution_count": 5,
   "id": "cf61c926-1f8d-4117-959f-7c564297b75e",
   "metadata": {},
   "outputs": [
    {
     "name": "stdout",
     "output_type": "stream",
     "text": [
      "('Name', 10, 1.1, 'Lim', 90)\n"
     ]
    }
   ],
   "source": [
    "#Adding element\n",
    "tuples2=tuples1+(\"Lim\",90)\n",
    "print(tuples2)"
   ]
  },
  {
   "cell_type": "code",
   "execution_count": 6,
   "id": "01218f3a-c7e1-4faa-9682-baddf1e94288",
   "metadata": {},
   "outputs": [
    {
     "data": {
      "text/plain": [
       "('Lim', 90)"
      ]
     },
     "execution_count": 6,
     "metadata": {},
     "output_type": "execute_result"
    }
   ],
   "source": [
    "tuples2[3:5]"
   ]
  },
  {
   "cell_type": "code",
   "execution_count": 7,
   "id": "01d70fcf-0f12-41c6-9180-32166a228fd1",
   "metadata": {},
   "outputs": [
    {
     "data": {
      "text/plain": [
       "5"
      ]
     },
     "execution_count": 7,
     "metadata": {},
     "output_type": "execute_result"
    }
   ],
   "source": [
    "len(tuples2)"
   ]
  },
  {
   "cell_type": "code",
   "execution_count": 8,
   "id": "3a6bbf06-24c2-4f82-81ed-21ff291ff00a",
   "metadata": {},
   "outputs": [],
   "source": [
    "rating=(1,9,10,25,2,-1)\n",
    "sort=sorted"
   ]
  },
  {
   "cell_type": "code",
   "execution_count": 11,
   "id": "cdb4b335-1000-4c0b-a397-d9bc80d3c178",
   "metadata": {},
   "outputs": [],
   "source": [
    "#Nested\n",
    "nt=(1,2,(\"Lim\",1.1),(3,4))"
   ]
  },
  {
   "cell_type": "code",
   "execution_count": 12,
   "id": "5d92fe47-097c-4738-ad2a-df82843baf8b",
   "metadata": {},
   "outputs": [
    {
     "data": {
      "text/plain": [
       "('Lim', 1.1)"
      ]
     },
     "execution_count": 12,
     "metadata": {},
     "output_type": "execute_result"
    }
   ],
   "source": [
    "nt[2]"
   ]
  },
  {
   "cell_type": "code",
   "execution_count": 13,
   "id": "937994e2-eab6-40a2-92f6-2466800f17f5",
   "metadata": {},
   "outputs": [
    {
     "data": {
      "text/plain": [
       "'Lim'"
      ]
     },
     "execution_count": 13,
     "metadata": {},
     "output_type": "execute_result"
    }
   ],
   "source": [
    "nt[2][0]"
   ]
  },
  {
   "cell_type": "code",
   "execution_count": 14,
   "id": "94284678-a37c-4c53-b2f3-839038c9e929",
   "metadata": {
    "scrolled": true
   },
   "outputs": [
    {
     "data": {
      "text/plain": [
       "'i'"
      ]
     },
     "execution_count": 14,
     "metadata": {},
     "output_type": "execute_result"
    }
   ],
   "source": [
    "nt[2][0][1]"
   ]
  },
  {
   "cell_type": "code",
   "execution_count": 35,
   "id": "3bf32185-9eed-40ee-912d-0e265cbd5bb1",
   "metadata": {},
   "outputs": [
    {
     "ename": "AttributeError",
     "evalue": "'tuple' object has no attribute 'extend'",
     "output_type": "error",
     "traceback": [
      "\u001b[1;31m---------------------------------------------------------------------------\u001b[0m",
      "\u001b[1;31mAttributeError\u001b[0m                            Traceback (most recent call last)",
      "Cell \u001b[1;32mIn[35], line 2\u001b[0m\n\u001b[0;32m      1\u001b[0m \u001b[38;5;66;03m#Immutabel\u001b[39;00m\n\u001b[1;32m----> 2\u001b[0m nt\u001b[38;5;241m.\u001b[39mextend([\u001b[38;5;124m\"\u001b[39m\u001b[38;5;124mLim\u001b[39m\u001b[38;5;124m\"\u001b[39m,\u001b[38;5;124m\"\u001b[39m\u001b[38;5;124mChan\u001b[39m\u001b[38;5;124m\"\u001b[39m])\n",
      "\u001b[1;31mAttributeError\u001b[0m: 'tuple' object has no attribute 'extend'"
     ]
    }
   ],
   "source": [
    "#Immutabel\n",
    "nt.extend([\"Lim\",\"Chan\"])"
   ]
  },
  {
   "cell_type": "markdown",
   "id": "00349f3d-142a-405e-b898-be5a16044956",
   "metadata": {},
   "source": [
    "## Lists - An Ordered Sequence"
   ]
  },
  {
   "cell_type": "code",
   "execution_count": null,
   "id": "50611739-5fd5-4b21-a276-26afff46f2bc",
   "metadata": {},
   "outputs": [],
   "source": [
    "#Seperate with comma in a square bracket\n",
    "#Different type of element\n",
    "L=[\"Lim\",1999,11.5]"
   ]
  },
  {
   "cell_type": "code",
   "execution_count": 15,
   "id": "28eff7bf-5dea-4886-bfc7-008992b13661",
   "metadata": {},
   "outputs": [],
   "source": [
    "#Mutable\n",
    "#Nested\n",
    "new=[\"Chan\",10,1.1,[1,2],(9,0)]"
   ]
  },
  {
   "cell_type": "code",
   "execution_count": 16,
   "id": "042fc580-acf4-48e7-b634-03045892426a",
   "metadata": {},
   "outputs": [
    {
     "data": {
      "text/plain": [
       "5"
      ]
     },
     "execution_count": 16,
     "metadata": {},
     "output_type": "execute_result"
    }
   ],
   "source": [
    "len(new)"
   ]
  },
  {
   "cell_type": "code",
   "execution_count": 18,
   "id": "387840df-e31e-4709-9056-15d6fbc4336c",
   "metadata": {},
   "outputs": [
    {
     "data": {
      "text/plain": [
       "(9, 0)"
      ]
     },
     "execution_count": 18,
     "metadata": {},
     "output_type": "execute_result"
    }
   ],
   "source": [
    "new[-1]"
   ]
  },
  {
   "cell_type": "code",
   "execution_count": 19,
   "id": "818f97ba-5d16-4acc-a94b-136f27db6aba",
   "metadata": {},
   "outputs": [
    {
     "data": {
      "text/plain": [
       "0"
      ]
     },
     "execution_count": 19,
     "metadata": {},
     "output_type": "execute_result"
    }
   ],
   "source": [
    "new[-1][1]"
   ]
  },
  {
   "cell_type": "code",
   "execution_count": 22,
   "id": "c424ee11-3b3e-4229-ae8d-7bea83ccedcf",
   "metadata": {},
   "outputs": [
    {
     "data": {
      "text/plain": [
       "[[1, 2], (9, 0)]"
      ]
     },
     "execution_count": 22,
     "metadata": {},
     "output_type": "execute_result"
    }
   ],
   "source": [
    "#Slicing\n",
    "new[3:5]"
   ]
  },
  {
   "cell_type": "code",
   "execution_count": 48,
   "id": "00f8ad4b-d534-4549-abab-e46d72fb1dc0",
   "metadata": {},
   "outputs": [
    {
     "name": "stdout",
     "output_type": "stream",
     "text": [
      "['Chan', 10, 1.1, [1, 2], (9, 0), 8, 7]\n"
     ]
    }
   ],
   "source": [
    "#Adding element\n",
    "new2=new+[8,7]\n",
    "print(new2)"
   ]
  },
  {
   "cell_type": "code",
   "execution_count": 49,
   "id": "67303373-a1cc-4d7a-88bb-195df3efd0c9",
   "metadata": {},
   "outputs": [
    {
     "name": "stdout",
     "output_type": "stream",
     "text": [
      "['Chan', 10, 1.1, [1, 2], (9, 0), 8, 7, 'Chan', 'Lim']\n"
     ]
    }
   ],
   "source": [
    "#Mutable\n",
    "new2.extend([\"Chan\",\"Lim\"])\n",
    "print(new2)"
   ]
  },
  {
   "cell_type": "code",
   "execution_count": 50,
   "id": "4dade6c9-1fd8-4c5b-a386-140c0cce955f",
   "metadata": {},
   "outputs": [
    {
     "data": {
      "text/plain": [
       "9"
      ]
     },
     "execution_count": 50,
     "metadata": {},
     "output_type": "execute_result"
    }
   ],
   "source": [
    "len(new2)"
   ]
  },
  {
   "cell_type": "code",
   "execution_count": 52,
   "id": "a7285bbd-3283-4e4a-a29c-7b1ef02d8ae8",
   "metadata": {},
   "outputs": [
    {
     "name": "stdout",
     "output_type": "stream",
     "text": [
      "['Chan', 10, 1.1, [1, 2], (9, 0), 8, 7, 'Chan', 'Lim', ['Grape', 'Durian']]\n"
     ]
    }
   ],
   "source": [
    "new2.append([\"Grape\",\"Durian\"])\n",
    "print(new2)"
   ]
  },
  {
   "cell_type": "code",
   "execution_count": 53,
   "id": "57ccfaa8-d2e0-41d2-930a-2503e4ff8fad",
   "metadata": {},
   "outputs": [
    {
     "data": {
      "text/plain": [
       "10"
      ]
     },
     "execution_count": 53,
     "metadata": {},
     "output_type": "execute_result"
    }
   ],
   "source": [
    "len(new2)"
   ]
  },
  {
   "cell_type": "code",
   "execution_count": 55,
   "id": "f96ddac0-4d03-49a1-9cb0-7dbc94ccfa0a",
   "metadata": {},
   "outputs": [
    {
     "name": "stdout",
     "output_type": "stream",
     "text": [
      "['Chan', 100000000, 1.1, [1, 2], (9, 0), 8, 7, 'Chan', 'Lim', ['Grape', 'Durian']]\n"
     ]
    }
   ],
   "source": [
    "#Replace element\n",
    "new2[1]=100000000\n",
    "print(new2)"
   ]
  },
  {
   "cell_type": "code",
   "execution_count": 58,
   "id": "bf4fc4fd-8bbb-48d8-a2a3-b7461c83c1ac",
   "metadata": {},
   "outputs": [
    {
     "name": "stdout",
     "output_type": "stream",
     "text": [
      "['Chan', [1, 2], (9, 0), 8, 7, 'Chan', 'Lim', ['Grape', 'Durian']]\n"
     ]
    }
   ],
   "source": [
    "#Delete element\n",
    "del(new2[1])\n",
    "print(new2)"
   ]
  },
  {
   "cell_type": "code",
   "execution_count": 60,
   "id": "70df767e-9fe1-4988-8022-873f1e9d5fbb",
   "metadata": {},
   "outputs": [
    {
     "data": {
      "text/plain": [
       "['Hard', 'Rock']"
      ]
     },
     "execution_count": 60,
     "metadata": {},
     "output_type": "execute_result"
    }
   ],
   "source": [
    "#Split\n",
    "\"Hard Rock\".split()"
   ]
  },
  {
   "cell_type": "code",
   "execution_count": 61,
   "id": "a2e0b4a9-b2d3-4b1f-99d5-08b4c3e250da",
   "metadata": {},
   "outputs": [
    {
     "data": {
      "text/plain": [
       "['A', 'B', 'C']"
      ]
     },
     "execution_count": 61,
     "metadata": {},
     "output_type": "execute_result"
    }
   ],
   "source": [
    "\"A,B,C\".split(\",\")"
   ]
  },
  {
   "cell_type": "code",
   "execution_count": 63,
   "id": "d63559d6-776c-433a-90c3-26b63bd68329",
   "metadata": {},
   "outputs": [
    {
     "name": "stdout",
     "output_type": "stream",
     "text": [
      "['Chan', [1, 2], (9, 0), 8, 7, 'Chan', 'Lim', ['Grape', 'Durian']]\n"
     ]
    }
   ],
   "source": [
    "#Clone\n",
    "new3=new2[:]\n",
    "print(new3)"
   ]
  },
  {
   "cell_type": "code",
   "execution_count": 64,
   "id": "63824c6a-9a90-4238-b943-913af2aec958",
   "metadata": {},
   "outputs": [
    {
     "name": "stdout",
     "output_type": "stream",
     "text": [
      "Help on list object:\n",
      "\n",
      "class list(object)\n",
      " |  list(iterable=(), /)\n",
      " |\n",
      " |  Built-in mutable sequence.\n",
      " |\n",
      " |  If no argument is given, the constructor creates a new empty list.\n",
      " |  The argument must be an iterable if specified.\n",
      " |\n",
      " |  Methods defined here:\n",
      " |\n",
      " |  __add__(self, value, /)\n",
      " |      Return self+value.\n",
      " |\n",
      " |  __contains__(self, key, /)\n",
      " |      Return bool(key in self).\n",
      " |\n",
      " |  __delitem__(self, key, /)\n",
      " |      Delete self[key].\n",
      " |\n",
      " |  __eq__(self, value, /)\n",
      " |      Return self==value.\n",
      " |\n",
      " |  __ge__(self, value, /)\n",
      " |      Return self>=value.\n",
      " |\n",
      " |  __getattribute__(self, name, /)\n",
      " |      Return getattr(self, name).\n",
      " |\n",
      " |  __getitem__(self, index, /)\n",
      " |      Return self[index].\n",
      " |\n",
      " |  __gt__(self, value, /)\n",
      " |      Return self>value.\n",
      " |\n",
      " |  __iadd__(self, value, /)\n",
      " |      Implement self+=value.\n",
      " |\n",
      " |  __imul__(self, value, /)\n",
      " |      Implement self*=value.\n",
      " |\n",
      " |  __init__(self, /, *args, **kwargs)\n",
      " |      Initialize self.  See help(type(self)) for accurate signature.\n",
      " |\n",
      " |  __iter__(self, /)\n",
      " |      Implement iter(self).\n",
      " |\n",
      " |  __le__(self, value, /)\n",
      " |      Return self<=value.\n",
      " |\n",
      " |  __len__(self, /)\n",
      " |      Return len(self).\n",
      " |\n",
      " |  __lt__(self, value, /)\n",
      " |      Return self<value.\n",
      " |\n",
      " |  __mul__(self, value, /)\n",
      " |      Return self*value.\n",
      " |\n",
      " |  __ne__(self, value, /)\n",
      " |      Return self!=value.\n",
      " |\n",
      " |  __repr__(self, /)\n",
      " |      Return repr(self).\n",
      " |\n",
      " |  __reversed__(self, /)\n",
      " |      Return a reverse iterator over the list.\n",
      " |\n",
      " |  __rmul__(self, value, /)\n",
      " |      Return value*self.\n",
      " |\n",
      " |  __setitem__(self, key, value, /)\n",
      " |      Set self[key] to value.\n",
      " |\n",
      " |  __sizeof__(self, /)\n",
      " |      Return the size of the list in memory, in bytes.\n",
      " |\n",
      " |  append(self, object, /)\n",
      " |      Append object to the end of the list.\n",
      " |\n",
      " |  clear(self, /)\n",
      " |      Remove all items from list.\n",
      " |\n",
      " |  copy(self, /)\n",
      " |      Return a shallow copy of the list.\n",
      " |\n",
      " |  count(self, value, /)\n",
      " |      Return number of occurrences of value.\n",
      " |\n",
      " |  extend(self, iterable, /)\n",
      " |      Extend list by appending elements from the iterable.\n",
      " |\n",
      " |  index(self, value, start=0, stop=9223372036854775807, /)\n",
      " |      Return first index of value.\n",
      " |\n",
      " |      Raises ValueError if the value is not present.\n",
      " |\n",
      " |  insert(self, index, object, /)\n",
      " |      Insert object before index.\n",
      " |\n",
      " |  pop(self, index=-1, /)\n",
      " |      Remove and return item at index (default last).\n",
      " |\n",
      " |      Raises IndexError if list is empty or index is out of range.\n",
      " |\n",
      " |  remove(self, value, /)\n",
      " |      Remove first occurrence of value.\n",
      " |\n",
      " |      Raises ValueError if the value is not present.\n",
      " |\n",
      " |  reverse(self, /)\n",
      " |      Reverse *IN PLACE*.\n",
      " |\n",
      " |  sort(self, /, *, key=None, reverse=False)\n",
      " |      Sort the list in ascending order and return None.\n",
      " |\n",
      " |      The sort is in-place (i.e. the list itself is modified) and stable (i.e. the\n",
      " |      order of two equal elements is maintained).\n",
      " |\n",
      " |      If a key function is given, apply it once to each list item and sort them,\n",
      " |      ascending or descending, according to their function values.\n",
      " |\n",
      " |      The reverse flag can be set to sort in descending order.\n",
      " |\n",
      " |  ----------------------------------------------------------------------\n",
      " |  Class methods defined here:\n",
      " |\n",
      " |  __class_getitem__(...)\n",
      " |      See PEP 585\n",
      " |\n",
      " |  ----------------------------------------------------------------------\n",
      " |  Static methods defined here:\n",
      " |\n",
      " |  __new__(*args, **kwargs)\n",
      " |      Create and return a new object.  See help(type) for accurate signature.\n",
      " |\n",
      " |  ----------------------------------------------------------------------\n",
      " |  Data and other attributes defined here:\n",
      " |\n",
      " |  __hash__ = None\n",
      "\n"
     ]
    }
   ],
   "source": [
    "help(new3)"
   ]
  },
  {
   "cell_type": "code",
   "execution_count": null,
   "id": "9e27d843-90ed-48f7-99a9-c30666d243cc",
   "metadata": {},
   "outputs": [],
   "source": []
  }
 ],
 "metadata": {
  "kernelspec": {
   "display_name": "Python 3 (ipykernel)",
   "language": "python",
   "name": "python3"
  },
  "language_info": {
   "codemirror_mode": {
    "name": "ipython",
    "version": 3
   },
   "file_extension": ".py",
   "mimetype": "text/x-python",
   "name": "python",
   "nbconvert_exporter": "python",
   "pygments_lexer": "ipython3",
   "version": "3.12.7"
  }
 },
 "nbformat": 4,
 "nbformat_minor": 5
}
