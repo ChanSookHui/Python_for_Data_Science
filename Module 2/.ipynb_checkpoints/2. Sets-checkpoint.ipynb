{
 "cells": [
  {
   "cell_type": "markdown",
   "id": "dccf9dd1-3daa-405a-8649-84ffe741529c",
   "metadata": {},
   "source": [
    "## Sets - Unordered With Unique Element"
   ]
  },
  {
   "cell_type": "code",
   "execution_count": 4,
   "id": "1c759c72-6d2d-41df-a37f-f930339be3b4",
   "metadata": {},
   "outputs": [
    {
     "name": "stdout",
     "output_type": "stream",
     "text": [
      "{'Durian', 'Grape', 'Mango'}\n"
     ]
    }
   ],
   "source": [
    "#Duplicate element will not be present\n",
    "set1={\"Grape\",\"Durian\",\"Mango\",\"Durian\"}\n",
    "print(set1)"
   ]
  },
  {
   "cell_type": "code",
   "execution_count": 8,
   "id": "e01f21fd-52d5-4239-8b72-74a263937f6f",
   "metadata": {},
   "outputs": [
    {
     "name": "stdout",
     "output_type": "stream",
     "text": [
      "['Lim', 'Chan', 'Lim', 1999]\n",
      "{'Lim', 1999, 'Chan'}\n"
     ]
    }
   ],
   "source": [
    "#Convert list to set (type-casting)\n",
    "list1=[\"Lim\",\"Chan\",\"Lim\",1999]\n",
    "sets=set(list1)\n",
    "print(list1)\n",
    "print(sets)"
   ]
  },
  {
   "cell_type": "markdown",
   "id": "76811243-d00e-4010-8f1b-52bc82821e44",
   "metadata": {},
   "source": [
    "#### Operation"
   ]
  },
  {
   "cell_type": "code",
   "execution_count": 13,
   "id": "f86c2f75-f042-4248-b866-e8544f725cfd",
   "metadata": {},
   "outputs": [
    {
     "name": "stdout",
     "output_type": "stream",
     "text": [
      "{'F', 'A', 'C', 'B'}\n"
     ]
    }
   ],
   "source": [
    "#Adding element\n",
    "a={\"A\",\"B\",\"C\"}\n",
    "a.add(\"F\")\n",
    "print(a)"
   ]
  },
  {
   "cell_type": "code",
   "execution_count": 14,
   "id": "ed1254f7-18da-441b-95aa-520ee77a0edc",
   "metadata": {},
   "outputs": [
    {
     "name": "stdout",
     "output_type": "stream",
     "text": [
      "{'A', 'C', 'B'}\n"
     ]
    }
   ],
   "source": [
    "#Remove element\n",
    "a.remove(\"F\")\n",
    "print(a)"
   ]
  },
  {
   "cell_type": "code",
   "execution_count": 15,
   "id": "0b7d9e53-0914-4292-888b-6086e4f626cc",
   "metadata": {},
   "outputs": [
    {
     "data": {
      "text/plain": [
       "False"
      ]
     },
     "execution_count": 15,
     "metadata": {},
     "output_type": "execute_result"
    }
   ],
   "source": [
    "#Verify if the element exists\n",
    "\"Lim\" in a"
   ]
  },
  {
   "cell_type": "code",
   "execution_count": 16,
   "id": "52cb5f0b-494f-4a9f-8d76-19b9d3460ace",
   "metadata": {},
   "outputs": [
    {
     "data": {
      "text/plain": [
       "True"
      ]
     },
     "execution_count": 16,
     "metadata": {},
     "output_type": "execute_result"
    }
   ],
   "source": [
    "\"A\" in a"
   ]
  },
  {
   "cell_type": "code",
   "execution_count": 18,
   "id": "958401c7-c904-4099-abf1-6bde9b520962",
   "metadata": {},
   "outputs": [
    {
     "name": "stdout",
     "output_type": "stream",
     "text": [
      "{'A'}\n"
     ]
    }
   ],
   "source": [
    "#Intercept element\n",
    "b={\"A\",\"G\",\"Z\"}\n",
    "c=a&b\n",
    "print(c)"
   ]
  },
  {
   "cell_type": "code",
   "execution_count": 20,
   "id": "cd6d1803-1890-4f10-9cc5-c8f3253c7eb1",
   "metadata": {},
   "outputs": [
    {
     "name": "stdout",
     "output_type": "stream",
     "text": [
      "{'B', 'G', 'A', 'C', 'Z'}\n"
     ]
    }
   ],
   "source": [
    "#Union\n",
    "d=a.union(b)\n",
    "print(d)"
   ]
  },
  {
   "cell_type": "code",
   "execution_count": 21,
   "id": "c9bbea10-8466-41ea-b6cd-e837669f3f15",
   "metadata": {},
   "outputs": [
    {
     "data": {
      "text/plain": [
       "True"
      ]
     },
     "execution_count": 21,
     "metadata": {},
     "output_type": "execute_result"
    }
   ],
   "source": [
    "#Subset\n",
    "c.issubset(a)"
   ]
  },
  {
   "cell_type": "code",
   "execution_count": 22,
   "id": "324c3b54-2455-4b3d-9569-5919463bb7fb",
   "metadata": {},
   "outputs": [
    {
     "data": {
      "text/plain": [
       "False"
      ]
     },
     "execution_count": 22,
     "metadata": {},
     "output_type": "execute_result"
    }
   ],
   "source": [
    "b.issubset(a)"
   ]
  },
  {
   "cell_type": "code",
   "execution_count": null,
   "id": "3ce31c1a-57b0-4b1f-a569-e4b1f87247cb",
   "metadata": {},
   "outputs": [],
   "source": []
  }
 ],
 "metadata": {
  "kernelspec": {
   "display_name": "Python 3 (ipykernel)",
   "language": "python",
   "name": "python3"
  },
  "language_info": {
   "codemirror_mode": {
    "name": "ipython",
    "version": 3
   },
   "file_extension": ".py",
   "mimetype": "text/x-python",
   "name": "python",
   "nbconvert_exporter": "python",
   "pygments_lexer": "ipython3",
   "version": "3.12.7"
  }
 },
 "nbformat": 4,
 "nbformat_minor": 5
}
