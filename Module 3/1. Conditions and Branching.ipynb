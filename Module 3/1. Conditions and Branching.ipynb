{
 "cells": [
  {
   "cell_type": "markdown",
   "id": "f5752e1b-8810-4751-b3d3-b623d547be85",
   "metadata": {},
   "source": [
    "## Comparison Operator"
   ]
  },
  {
   "cell_type": "code",
   "execution_count": 1,
   "id": "e69fa162-1530-4290-ad50-06e52a7175ae",
   "metadata": {},
   "outputs": [
    {
     "data": {
      "text/plain": [
       "False"
      ]
     },
     "execution_count": 1,
     "metadata": {},
     "output_type": "execute_result"
    }
   ],
   "source": [
    "a=6\n",
    "a==7"
   ]
  },
  {
   "cell_type": "code",
   "execution_count": 2,
   "id": "990c02a7-91b2-4484-a217-71e013c05da9",
   "metadata": {},
   "outputs": [
    {
     "data": {
      "text/plain": [
       "True"
      ]
     },
     "execution_count": 2,
     "metadata": {},
     "output_type": "execute_result"
    }
   ],
   "source": [
    "a==6"
   ]
  },
  {
   "cell_type": "code",
   "execution_count": 11,
   "id": "4adaf8ea-0ea7-4ebd-979d-eca7c00a583d",
   "metadata": {},
   "outputs": [
    {
     "data": {
      "text/plain": [
       "True"
      ]
     },
     "execution_count": 11,
     "metadata": {},
     "output_type": "execute_result"
    }
   ],
   "source": [
    "a>5\n",
    "a==6"
   ]
  },
  {
   "cell_type": "code",
   "execution_count": 13,
   "id": "a772c5f0-96f7-4ccb-9789-d2760486c197",
   "metadata": {},
   "outputs": [
    {
     "data": {
      "text/plain": [
       "True"
      ]
     },
     "execution_count": 13,
     "metadata": {},
     "output_type": "execute_result"
    }
   ],
   "source": [
    "a!=5\n",
    "a==6"
   ]
  },
  {
   "cell_type": "code",
   "execution_count": 14,
   "id": "8e17fb73-071f-44d9-9f5a-ef31156aeb9f",
   "metadata": {},
   "outputs": [
    {
     "data": {
      "text/plain": [
       "False"
      ]
     },
     "execution_count": 14,
     "metadata": {},
     "output_type": "execute_result"
    }
   ],
   "source": [
    "\"Chan\"==\"Lim\""
   ]
  },
  {
   "cell_type": "code",
   "execution_count": 15,
   "id": "cf059252-3997-4a49-add6-a8bcfd9fd98e",
   "metadata": {},
   "outputs": [
    {
     "data": {
      "text/plain": [
       "True"
      ]
     },
     "execution_count": 15,
     "metadata": {},
     "output_type": "execute_result"
    }
   ],
   "source": [
    "\"Chan\"!=\"Lim\""
   ]
  },
  {
   "cell_type": "markdown",
   "id": "9f743438-21e3-4699-83d4-a14cc7567978",
   "metadata": {},
   "source": [
    "## Branching"
   ]
  },
  {
   "cell_type": "code",
   "execution_count": 24,
   "id": "babb0243-cd95-411e-9c45-709d12793e26",
   "metadata": {},
   "outputs": [
    {
     "name": "stdout",
     "output_type": "stream",
     "text": [
      "Invalid\n"
     ]
    }
   ],
   "source": [
    "#if Statement\n",
    "age=17\n",
    "if (age>18):\n",
    "    print(\"Valid\")\n",
    "print(\"Invalid\")"
   ]
  },
  {
   "cell_type": "code",
   "execution_count": 23,
   "id": "fded1d12-4ed2-412a-8d21-918aad0b800b",
   "metadata": {},
   "outputs": [
    {
     "name": "stdout",
     "output_type": "stream",
     "text": [
      "Nature\n"
     ]
    }
   ],
   "source": [
    "#else Statement\n",
    "age=1\n",
    "if (age>18):\n",
    "    print(\"Valid\")\n",
    "else:\n",
    "    print(\"Nature\")"
   ]
  },
  {
   "cell_type": "code",
   "execution_count": 26,
   "id": "4e0fcd77-93e8-4b9f-a91c-c588cb910b23",
   "metadata": {},
   "outputs": [
    {
     "name": "stdout",
     "output_type": "stream",
     "text": [
      "Valid\n"
     ]
    }
   ],
   "source": [
    "#elif\n",
    "age=60\n",
    "if (age>18):\n",
    "    print(\"Valid\")\n",
    "elif (age==18):\n",
    "    print(\"Nature\")\n",
    "else:\n",
    "    print(\"Invalid\")"
   ]
  },
  {
   "cell_type": "markdown",
   "id": "951b016a-bb57-4251-a4ae-5500b41db08d",
   "metadata": {},
   "source": [
    "## Logic Operator"
   ]
  },
  {
   "cell_type": "code",
   "execution_count": 27,
   "id": "33046297-b3cd-4c04-95ce-3d0b5464c969",
   "metadata": {},
   "outputs": [
    {
     "data": {
      "text/plain": [
       "False"
      ]
     },
     "execution_count": 27,
     "metadata": {},
     "output_type": "execute_result"
    }
   ],
   "source": [
    "#not\n",
    "not(True)"
   ]
  },
  {
   "cell_type": "code",
   "execution_count": 28,
   "id": "818eab5c-2da4-4502-8d27-b2abd128f327",
   "metadata": {},
   "outputs": [
    {
     "data": {
      "text/plain": [
       "True"
      ]
     },
     "execution_count": 28,
     "metadata": {},
     "output_type": "execute_result"
    }
   ],
   "source": [
    "not(False)"
   ]
  },
  {
   "cell_type": "code",
   "execution_count": 33,
   "id": "2f41a13c-e6ce-4528-97da-960a2d813433",
   "metadata": {},
   "outputs": [
    {
     "name": "stdout",
     "output_type": "stream",
     "text": [
      "In the range\n"
     ]
    }
   ],
   "source": [
    "#or\n",
    "year=2000\n",
    "if (year<2024) or (year>2100):\n",
    "    print(\"In the range\")\n",
    "else:\n",
    "    print(\"Not in the range\")"
   ]
  },
  {
   "cell_type": "code",
   "execution_count": 37,
   "id": "ad25c0c9-43cc-49ed-bf89-7251e395d351",
   "metadata": {},
   "outputs": [
    {
     "name": "stdout",
     "output_type": "stream",
     "text": [
      "Not in the range\n"
     ]
    }
   ],
   "source": [
    "#and\n",
    "year=2000\n",
    "if (year<2024) and (year>2000):\n",
    "    print(\"In the range\")\n",
    "else:\n",
    "    print(\"Not in the range\")"
   ]
  },
  {
   "cell_type": "code",
   "execution_count": null,
   "id": "97b560da-27ca-42aa-a5b5-3cc61f7d7690",
   "metadata": {},
   "outputs": [],
   "source": []
  }
 ],
 "metadata": {
  "kernelspec": {
   "display_name": "Python 3 (ipykernel)",
   "language": "python",
   "name": "python3"
  },
  "language_info": {
   "codemirror_mode": {
    "name": "ipython",
    "version": 3
   },
   "file_extension": ".py",
   "mimetype": "text/x-python",
   "name": "python",
   "nbconvert_exporter": "python",
   "pygments_lexer": "ipython3",
   "version": "3.12.7"
  }
 },
 "nbformat": 4,
 "nbformat_minor": 5
}
