{
 "cells": [
  {
   "cell_type": "markdown",
   "id": "94e10b00-066d-46e4-b6ba-3e06aaa60df9",
   "metadata": {},
   "source": [
    "## Built-in Functions"
   ]
  },
  {
   "cell_type": "code",
   "execution_count": 1,
   "id": "d7dc103b-08c6-48e6-84b0-1a6b208dbb19",
   "metadata": {},
   "outputs": [
    {
     "name": "stdout",
     "output_type": "stream",
     "text": [
      "4\n"
     ]
    }
   ],
   "source": [
    "#len\n",
    "name=[\"lim\",\"chan\",\"tan\",\"lee\"]\n",
    "L=len(name)\n",
    "print(L)"
   ]
  },
  {
   "cell_type": "code",
   "execution_count": 2,
   "id": "b343ebef-4b52-4c2b-88df-374af516e0ca",
   "metadata": {},
   "outputs": [
    {
     "name": "stdout",
     "output_type": "stream",
     "text": [
      "24\n"
     ]
    }
   ],
   "source": [
    "#sum\n",
    "ball=[1,9,0,8,6]\n",
    "s=sum(ball)\n",
    "print(s)"
   ]
  },
  {
   "cell_type": "code",
   "execution_count": 3,
   "id": "95c1e960-cacc-42fd-b562-49ac433c3576",
   "metadata": {},
   "outputs": [
    {
     "name": "stdout",
     "output_type": "stream",
     "text": [
      "['chan', 'lee', 'lim', 'tan']\n"
     ]
    }
   ],
   "source": [
    "#sorted\n",
    "sort_name=sorted(name)\n",
    "print(sort_name)"
   ]
  },
  {
   "cell_type": "code",
   "execution_count": 4,
   "id": "fd74058c-be10-4b18-850a-5c01c1e7bc2c",
   "metadata": {},
   "outputs": [
    {
     "name": "stdout",
     "output_type": "stream",
     "text": [
      "[0, 1, 6, 8, 9]\n"
     ]
    }
   ],
   "source": [
    "#sort \n",
    "ball.sort()\n",
    "print(ball)"
   ]
  },
  {
   "cell_type": "markdown",
   "id": "385709e0-9b22-4cf7-b9d2-f1f01e295573",
   "metadata": {},
   "source": [
    "## Making Function"
   ]
  },
  {
   "cell_type": "code",
   "execution_count": 5,
   "id": "f59d47a7-ad6d-481c-ac07-566360306c01",
   "metadata": {},
   "outputs": [
    {
     "data": {
      "text/plain": [
       "6"
      ]
     },
     "execution_count": 5,
     "metadata": {},
     "output_type": "execute_result"
    }
   ],
   "source": [
    "def add1(a):\n",
    "    b=a+1\n",
    "    return b\n",
    "add1(5)"
   ]
  },
  {
   "cell_type": "code",
   "execution_count": 6,
   "id": "f18ffbe5-9786-4c53-b886-6adf8cf3a93f",
   "metadata": {},
   "outputs": [
    {
     "data": {
      "text/plain": [
       "11"
      ]
     },
     "execution_count": 6,
     "metadata": {},
     "output_type": "execute_result"
    }
   ],
   "source": [
    "c=add1(10)\n",
    "c"
   ]
  },
  {
   "cell_type": "code",
   "execution_count": 7,
   "id": "9db91443-caa2-42a2-b6a2-6082fca447c3",
   "metadata": {},
   "outputs": [
    {
     "data": {
      "text/plain": [
       "6"
      ]
     },
     "execution_count": 7,
     "metadata": {},
     "output_type": "execute_result"
    }
   ],
   "source": [
    "def add1(a):\n",
    "    \"\"\"\n",
    "    add 1 to a\n",
    "    \"\"\"\n",
    "    b=a+1\n",
    "    return b\n",
    "add1(5)"
   ]
  },
  {
   "cell_type": "code",
   "execution_count": 8,
   "id": "78dba334-9845-4112-acc9-41db4a4b2fe5",
   "metadata": {},
   "outputs": [
    {
     "name": "stdout",
     "output_type": "stream",
     "text": [
      "Help on function add1 in module __main__:\n",
      "\n",
      "add1(a)\n",
      "    add 1 to a\n",
      "\n"
     ]
    }
   ],
   "source": [
    "help(add1)"
   ]
  },
  {
   "cell_type": "code",
   "execution_count": 9,
   "id": "22daa3c5-95ce-4dfa-9b46-8b5a1a14a4c5",
   "metadata": {},
   "outputs": [
    {
     "data": {
      "text/plain": [
       "72"
      ]
     },
     "execution_count": 9,
     "metadata": {},
     "output_type": "execute_result"
    }
   ],
   "source": [
    "#Multiple parameter\n",
    "def mult(a,b):\n",
    "    c=a*b\n",
    "    return c\n",
    "mult(8,9)"
   ]
  },
  {
   "cell_type": "code",
   "execution_count": 10,
   "id": "99d8eb75-82c8-4f58-aaed-d5c022803056",
   "metadata": {},
   "outputs": [
    {
     "data": {
      "text/plain": [
       "11.0"
      ]
     },
     "execution_count": 10,
     "metadata": {},
     "output_type": "execute_result"
    }
   ],
   "source": [
    "mult(10,1.1)"
   ]
  },
  {
   "cell_type": "code",
   "execution_count": 11,
   "id": "2bfee894-dbc6-4ae4-9d7a-63d1eae7b5d5",
   "metadata": {},
   "outputs": [
    {
     "data": {
      "text/plain": [
       "'Chan Chan Chan '"
      ]
     },
     "execution_count": 11,
     "metadata": {},
     "output_type": "execute_result"
    }
   ],
   "source": [
    "mult(3,\"Chan \")"
   ]
  },
  {
   "cell_type": "code",
   "execution_count": 12,
   "id": "5055e8ef-1bee-4d74-a5e6-d22e8092cfca",
   "metadata": {},
   "outputs": [
    {
     "name": "stdout",
     "output_type": "stream",
     "text": [
      "MJ\n"
     ]
    }
   ],
   "source": [
    "def MJ():\n",
    "    print(\"MJ\")\n",
    "MJ()"
   ]
  },
  {
   "cell_type": "code",
   "execution_count": 13,
   "id": "a43d833e-553a-4eae-916d-1dda08266b0e",
   "metadata": {},
   "outputs": [
    {
     "name": "stdout",
     "output_type": "stream",
     "text": [
      "None\n"
     ]
    }
   ],
   "source": [
    "def none():\n",
    "    pass #Empty body is not allow. Use pass to represent empty body\n",
    "print(none())"
   ]
  },
  {
   "cell_type": "code",
   "execution_count": 14,
   "id": "eb94148c-50cf-4bab-9cc2-a832234b314a",
   "metadata": {},
   "outputs": [
    {
     "name": "stdout",
     "output_type": "stream",
     "text": [
      "90 plus 1 equal 91\n"
     ]
    },
    {
     "data": {
      "text/plain": [
       "91"
      ]
     },
     "execution_count": 14,
     "metadata": {},
     "output_type": "execute_result"
    }
   ],
   "source": [
    "def add(a):\n",
    "    b=a+1\n",
    "    print(a,\"plus 1 equal\",b)\n",
    "    return b\n",
    "add(90)"
   ]
  },
  {
   "cell_type": "code",
   "execution_count": 15,
   "id": "49c7186c-272b-474e-874b-fd110bcf408f",
   "metadata": {},
   "outputs": [
    {
     "name": "stdout",
     "output_type": "stream",
     "text": [
      "Number 0 Rating is 1\n",
      "Number 1 Rating is 4\n",
      "Number 2 Rating is 9.0\n",
      "Number 3 Rating is 8\n"
     ]
    }
   ],
   "source": [
    "#Use loops in function\n",
    "def stuff(a):\n",
    "    for i,s in enumerate(a):\n",
    "        print(\"Number\",i,\"Rating is\",s)\n",
    "number=[1,4,9.0,8]\n",
    "stuff(number)        "
   ]
  },
  {
   "cell_type": "code",
   "execution_count": 16,
   "id": "f29aca31-42f3-4c84-8e57-85fc90e6836a",
   "metadata": {},
   "outputs": [
    {
     "name": "stdout",
     "output_type": "stream",
     "text": [
      "Chan\n",
      "Tan\n",
      "Lim\n"
     ]
    }
   ],
   "source": [
    "#Collecting Argument\n",
    "def artist(*c):\n",
    "    for name in c:\n",
    "        print(name)\n",
    "artist(\"Chan\",\"Tan\",\"Lim\")"
   ]
  },
  {
   "cell_type": "code",
   "execution_count": 17,
   "id": "39d4cb67-ba7c-42d3-9b3d-054835967006",
   "metadata": {},
   "outputs": [
    {
     "name": "stdout",
     "output_type": "stream",
     "text": [
      "Lee\n",
      "Kung\n"
     ]
    }
   ],
   "source": [
    "artist(\"Lee\",\"Kung\")"
   ]
  },
  {
   "cell_type": "code",
   "execution_count": 55,
   "id": "45feb71c-3221-4bbc-8566-3d2ecd4b032e",
   "metadata": {},
   "outputs": [
    {
     "data": {
      "text/plain": [
       "15"
      ]
     },
     "execution_count": 55,
     "metadata": {},
     "output_type": "execute_result"
    }
   ],
   "source": [
    "def num(*x):\n",
    "    return sum(x)\n",
    "num(1,2,3,4,5)"
   ]
  },
  {
   "cell_type": "code",
   "execution_count": 23,
   "id": "d4584fcf-7b37-4a37-ac43-cd90f6265b57",
   "metadata": {},
   "outputs": [
    {
     "name": "stdout",
     "output_type": "stream",
     "text": [
      "ACDC\n"
     ]
    }
   ],
   "source": [
    "#Global Scope\n",
    "def addDc(y):\n",
    "    x=y+\"DC\"\n",
    "    print(x)\n",
    "    return(x)\n",
    "\n",
    "x=\"AC\"\n",
    "z=addDc(x)"
   ]
  },
  {
   "cell_type": "code",
   "execution_count": 38,
   "id": "b93c879d-3de0-4022-93dc-dc9fef4ed02c",
   "metadata": {},
   "outputs": [
    {
     "data": {
      "text/plain": [
       "1982"
      ]
     },
     "execution_count": 38,
     "metadata": {},
     "output_type": "execute_result"
    }
   ],
   "source": [
    "#Local Variable\n",
    "def t():\n",
    "    date=1982\n",
    "    return(date)\n",
    "t()"
   ]
  },
  {
   "cell_type": "code",
   "execution_count": 39,
   "id": "8b3282bd-1bf3-4058-93bc-26c09e47f3a9",
   "metadata": {},
   "outputs": [],
   "source": [
    "#Local and global variable can have the same name with no conflict\n",
    "def t():\n",
    "    date=2000 #Local variable\n",
    "    return(date)\n",
    "\n",
    "date=2017 #global variable"
   ]
  },
  {
   "cell_type": "code",
   "execution_count": 40,
   "id": "b98e2981-bd10-453d-be27-1ea531f03f57",
   "metadata": {},
   "outputs": [
    {
     "data": {
      "text/plain": [
       "2000"
      ]
     },
     "execution_count": 40,
     "metadata": {},
     "output_type": "execute_result"
    }
   ],
   "source": [
    "t()"
   ]
  },
  {
   "cell_type": "code",
   "execution_count": 47,
   "id": "3acedc7d-2767-472b-9676-6e695b848f61",
   "metadata": {},
   "outputs": [
    {
     "data": {
      "text/plain": [
       "2017"
      ]
     },
     "execution_count": 47,
     "metadata": {},
     "output_type": "execute_result"
    }
   ],
   "source": [
    "date"
   ]
  },
  {
   "cell_type": "code",
   "execution_count": 51,
   "id": "eb8c81e1-ede5-460f-af48-24025842ef84",
   "metadata": {},
   "outputs": [
    {
     "name": "stdout",
     "output_type": "stream",
     "text": [
      "9\n",
      "10\n"
     ]
    }
   ],
   "source": [
    "#Global variable value is used when local variable is undefined\n",
    "def acdc(y):\n",
    "    print(rating)\n",
    "    return(rating+y)\n",
    "rating=9\n",
    "z=acdc(1)\n",
    "print(z)"
   ]
  },
  {
   "cell_type": "code",
   "execution_count": 53,
   "id": "f9bf6e74-b205-4da0-8f1a-1cba664b0833",
   "metadata": {},
   "outputs": [
    {
     "data": {
      "text/plain": [
       "'black'"
      ]
     },
     "execution_count": 53,
     "metadata": {},
     "output_type": "execute_result"
    }
   ],
   "source": [
    "#Local variable\n",
    "def pink():\n",
    "    global colour\n",
    "    colour=\"black\"\n",
    "    return(colour)\n",
    "\n",
    "pink()"
   ]
  },
  {
   "cell_type": "code",
   "execution_count": 54,
   "id": "feccb698-8689-464c-b518-40861a939b64",
   "metadata": {},
   "outputs": [
    {
     "name": "stdout",
     "output_type": "stream",
     "text": [
      "black\n"
     ]
    }
   ],
   "source": [
    "print(colour)"
   ]
  },
  {
   "cell_type": "code",
   "execution_count": null,
   "id": "508ffbdd-40a8-4ac0-8b59-137e4d79ed1f",
   "metadata": {},
   "outputs": [],
   "source": []
  }
 ],
 "metadata": {
  "kernelspec": {
   "display_name": "Python 3 (ipykernel)",
   "language": "python",
   "name": "python3"
  },
  "language_info": {
   "codemirror_mode": {
    "name": "ipython",
    "version": 3
   },
   "file_extension": ".py",
   "mimetype": "text/x-python",
   "name": "python",
   "nbconvert_exporter": "python",
   "pygments_lexer": "ipython3",
   "version": "3.12.7"
  }
 },
 "nbformat": 4,
 "nbformat_minor": 5
}
