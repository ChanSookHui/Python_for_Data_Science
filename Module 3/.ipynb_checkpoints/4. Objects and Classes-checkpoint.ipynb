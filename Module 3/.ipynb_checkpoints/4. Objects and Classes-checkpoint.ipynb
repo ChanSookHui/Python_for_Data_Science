{
 "cells": [
  {
   "cell_type": "markdown",
   "id": "63364b58-8e17-4a2f-b292-696b025d7aec",
   "metadata": {},
   "source": [
    "## Types\n",
    "- Integer\n",
    "- Float\n",
    "- String\n",
    "- List\n",
    "- Dictionary\n",
    "- Boolean\n",
    "\n",
    "Each of them are object\n",
    "\n",
    "Example:\n",
    "\n",
    "Object 1: A=[1,2,3]\n",
    "\n",
    "Object 2: B=[\"A\",\"B\",\"C\"]"
   ]
  },
  {
   "cell_type": "code",
   "execution_count": 2,
   "id": "bf41e01d-7b4d-4065-8746-621725db237b",
   "metadata": {},
   "outputs": [
    {
     "data": {
      "text/plain": [
       "str"
      ]
     },
     "execution_count": 2,
     "metadata": {},
     "output_type": "execute_result"
    }
   ],
   "source": [
    "#Identify the type\n",
    "type(\"A\")"
   ]
  },
  {
   "cell_type": "code",
   "execution_count": 3,
   "id": "40612d20-a1e3-4b1b-a07b-40bb5cfde246",
   "metadata": {},
   "outputs": [
    {
     "data": {
      "text/plain": [
       "int"
      ]
     },
     "execution_count": 3,
     "metadata": {},
     "output_type": "execute_result"
    }
   ],
   "source": [
    "type(1)"
   ]
  },
  {
   "cell_type": "markdown",
   "id": "c93bd5ef-5adf-4d70-92eb-b5b64080b819",
   "metadata": {},
   "source": [
    "## Methods\n",
    "- How to interect with the data in a object\n",
    "\n",
    "Example: Sorting"
   ]
  },
  {
   "cell_type": "code",
   "execution_count": 11,
   "id": "19922b38-7052-440f-a263-ffcee1d82da4",
   "metadata": {},
   "outputs": [
    {
     "name": "stdout",
     "output_type": "stream",
     "text": [
      "[0, 1, 2, 3, 4, 5, 6, 7, 9]\n"
     ]
    }
   ],
   "source": [
    "#Sort\n",
    "A=[1,3,5,7,9,0,2,4,6]\n",
    "A.sort()\n",
    "print(A)"
   ]
  },
  {
   "cell_type": "code",
   "execution_count": 14,
   "id": "16598f3c-5959-4a78-ac05-87a5962bd387",
   "metadata": {},
   "outputs": [
    {
     "name": "stdout",
     "output_type": "stream",
     "text": [
      "[6, 4, 2, 0, 9, 7, 5, 3, 1]\n"
     ]
    }
   ],
   "source": [
    "#Reverse\n",
    "B=[1,3,5,7,9,0,2,4,6]\n",
    "B.reverse()\n",
    "print(B)"
   ]
  },
  {
   "cell_type": "markdown",
   "id": "ed4061e6-46d8-4f3d-bf36-fcc65f5e96a9",
   "metadata": {},
   "source": [
    "## Classes\n",
    "- Contain data attributes and methods"
   ]
  },
  {
   "cell_type": "code",
   "execution_count": 22,
   "id": "87ba4736-028a-4c4e-a4bf-52bc9efca106",
   "metadata": {},
   "outputs": [
    {
     "data": {
      "text/plain": [
       "<__main__.a at 0x1c1eb5e2bd0>"
      ]
     },
     "execution_count": 22,
     "metadata": {},
     "output_type": "execute_result"
    }
   ],
   "source": [
    "class a(object):\n",
    "    def __init__(x,b,c):\n",
    "        x.b=b;\n",
    "        x.c=c;\n",
    "        \n",
    "red=a(10,\"red\")\n",
    "red"
   ]
  },
  {
   "cell_type": "code",
   "execution_count": 23,
   "id": "074b90e7-f6ca-4951-bab7-ac1eb630d6de",
   "metadata": {},
   "outputs": [
    {
     "data": {
      "text/plain": [
       "10"
      ]
     },
     "execution_count": 23,
     "metadata": {},
     "output_type": "execute_result"
    }
   ],
   "source": [
    "red.b"
   ]
  },
  {
   "cell_type": "code",
   "execution_count": 24,
   "id": "df7ca4f3-d93d-4b2a-82ff-4c00d013b28e",
   "metadata": {},
   "outputs": [
    {
     "data": {
      "text/plain": [
       "'red'"
      ]
     },
     "execution_count": 24,
     "metadata": {},
     "output_type": "execute_result"
    }
   ],
   "source": [
    "red.c"
   ]
  },
  {
   "cell_type": "code",
   "execution_count": 27,
   "id": "7db7f504-42dc-4437-97b1-50c78449a460",
   "metadata": {},
   "outputs": [
    {
     "data": {
      "text/plain": [
       "12"
      ]
     },
     "execution_count": 27,
     "metadata": {},
     "output_type": "execute_result"
    }
   ],
   "source": [
    "#Change the object name\n",
    "red.b=12\n",
    "red.b"
   ]
  },
  {
   "cell_type": "code",
   "execution_count": 47,
   "id": "dcfd63f4-bf26-4a71-8295-d27beb4e6fb3",
   "metadata": {},
   "outputs": [],
   "source": [
    "#Methods\n",
    "class a(object):\n",
    "    def __init__(x,b,c):\n",
    "        x.b=b;\n",
    "        x.c=c;\n",
    "    def add_a(x,r):\n",
    "        x.b=x.b+r"
   ]
  },
  {
   "cell_type": "code",
   "execution_count": 48,
   "id": "04407478-cb3f-4bc8-b0f5-eec66884a8ed",
   "metadata": {},
   "outputs": [
    {
     "data": {
      "text/plain": [
       "<__main__.a at 0x1c1eb5f2c90>"
      ]
     },
     "execution_count": 48,
     "metadata": {},
     "output_type": "execute_result"
    }
   ],
   "source": [
    "c1=a(2,\"red\")\n",
    "c1.add_a(9)\n",
    "c1"
   ]
  },
  {
   "cell_type": "code",
   "execution_count": 49,
   "id": "864f7d53-5c68-4e26-8519-39b2dae54d51",
   "metadata": {},
   "outputs": [
    {
     "data": {
      "text/plain": [
       "11"
      ]
     },
     "execution_count": 49,
     "metadata": {},
     "output_type": "execute_result"
    }
   ],
   "source": [
    "c1.b"
   ]
  },
  {
   "cell_type": "code",
   "execution_count": 50,
   "id": "64b05e8d-39a8-43f4-a827-c418721606a6",
   "metadata": {},
   "outputs": [
    {
     "data": {
      "text/plain": [
       "'red'"
      ]
     },
     "execution_count": 50,
     "metadata": {},
     "output_type": "execute_result"
    }
   ],
   "source": [
    "c1.c"
   ]
  },
  {
   "cell_type": "code",
   "execution_count": 69,
   "id": "4919ac44-73c7-4e05-bf20-874bf6e3a90b",
   "metadata": {},
   "outputs": [],
   "source": [
    "#Add default value\n",
    "class a(object):\n",
    "    def __init__(x,b=2,c=\"red\"):\n",
    "        x.b=b;\n",
    "        x.c=c;\n",
    "    def add_a(x,r):\n",
    "        x.b=x.b+r;\n",
    "        "
   ]
  },
  {
   "cell_type": "code",
   "execution_count": 81,
   "id": "7ba50e21-bf53-46f8-8c5a-abd3caee0226",
   "metadata": {},
   "outputs": [],
   "source": [
    "#Draw circle\n",
    "class Circle(object):\n",
    "    def __init__(self,radius,color):\n",
    "        self.radius=radius;\n",
    "        self.color=color;\n",
    "    def add_radius(self,r):\n",
    "        self.r=self.radius+r;\n",
    "    def drawCircle(self):\n",
    "        print(f\"Circle with radius {self.radius} and color {self.color}\");\n",
    "        \n",
    "redcircle=Circle(2,\"red\")"
   ]
  },
  {
   "cell_type": "code",
   "execution_count": 82,
   "id": "019d611e-702a-4b81-b8b6-f84ac31d2195",
   "metadata": {},
   "outputs": [
    {
     "data": {
      "text/plain": [
       "2"
      ]
     },
     "execution_count": 82,
     "metadata": {},
     "output_type": "execute_result"
    }
   ],
   "source": [
    "redcircle.radius"
   ]
  },
  {
   "cell_type": "code",
   "execution_count": 83,
   "id": "3e81772a-7495-4569-97db-599d8a76068f",
   "metadata": {},
   "outputs": [
    {
     "data": {
      "text/plain": [
       "'red'"
      ]
     },
     "execution_count": 83,
     "metadata": {},
     "output_type": "execute_result"
    }
   ],
   "source": [
    "redcircle.color"
   ]
  },
  {
   "cell_type": "code",
   "execution_count": 84,
   "id": "a9789292-5fa5-4b2a-b99f-c2588d47ab02",
   "metadata": {},
   "outputs": [
    {
     "name": "stdout",
     "output_type": "stream",
     "text": [
      "Circle with radius 2 and color red\n"
     ]
    }
   ],
   "source": [
    "redcircle.drawCircle()"
   ]
  },
  {
   "cell_type": "code",
   "execution_count": 85,
   "id": "2ed0f921-a338-4dae-9196-7ac7dad72344",
   "metadata": {},
   "outputs": [
    {
     "data": {
      "text/plain": [
       "['__class__',\n",
       " '__delattr__',\n",
       " '__dict__',\n",
       " '__dir__',\n",
       " '__doc__',\n",
       " '__eq__',\n",
       " '__format__',\n",
       " '__ge__',\n",
       " '__getattribute__',\n",
       " '__getstate__',\n",
       " '__gt__',\n",
       " '__hash__',\n",
       " '__init__',\n",
       " '__init_subclass__',\n",
       " '__le__',\n",
       " '__lt__',\n",
       " '__module__',\n",
       " '__ne__',\n",
       " '__new__',\n",
       " '__reduce__',\n",
       " '__reduce_ex__',\n",
       " '__repr__',\n",
       " '__setattr__',\n",
       " '__sizeof__',\n",
       " '__str__',\n",
       " '__subclasshook__',\n",
       " '__weakref__',\n",
       " 'add_radius',\n",
       " 'color',\n",
       " 'drawCircle',\n",
       " 'radius']"
      ]
     },
     "execution_count": 85,
     "metadata": {},
     "output_type": "execute_result"
    }
   ],
   "source": [
    "#dir - obtain the list of data attriburte and method associated with the class\n",
    "dir (redcircle)"
   ]
  },
  {
   "cell_type": "code",
   "execution_count": null,
   "id": "ee1c1218-e81e-4c0f-b04b-efa77bd46e3f",
   "metadata": {},
   "outputs": [],
   "source": []
  }
 ],
 "metadata": {
  "kernelspec": {
   "display_name": "Python 3 (ipykernel)",
   "language": "python",
   "name": "python3"
  },
  "language_info": {
   "codemirror_mode": {
    "name": "ipython",
    "version": 3
   },
   "file_extension": ".py",
   "mimetype": "text/x-python",
   "name": "python",
   "nbconvert_exporter": "python",
   "pygments_lexer": "ipython3",
   "version": "3.12.7"
  }
 },
 "nbformat": 4,
 "nbformat_minor": 5
}
