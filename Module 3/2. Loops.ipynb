{
 "cells": [
  {
   "cell_type": "markdown",
   "id": "8776abeb-4321-4ef4-a66b-1cf9f724c915",
   "metadata": {},
   "source": [
    "## Range"
   ]
  },
  {
   "cell_type": "code",
   "execution_count": 35,
   "id": "487fb1b9-fa91-4107-bff1-c90b73319132",
   "metadata": {},
   "outputs": [
    {
     "name": "stdout",
     "output_type": "stream",
     "text": [
      "range(0, 3)\n",
      "range(3, 5)\n"
     ]
    }
   ],
   "source": [
    "#range(N)\n",
    "a=range(3)\n",
    "b=range(3,5)\n",
    "print(a)\n",
    "print(b)"
   ]
  },
  {
   "cell_type": "markdown",
   "id": "b8f4dce7-5787-4ca6-9242-835b6562c562",
   "metadata": {},
   "source": [
    "## for Loops"
   ]
  },
  {
   "cell_type": "code",
   "execution_count": 43,
   "id": "75609c77-3cc0-4239-97e9-e55569e8250c",
   "metadata": {},
   "outputs": [
    {
     "name": "stdout",
     "output_type": "stream",
     "text": [
      "['white', 'white', 'white', 'white', 'white', 'orange']\n"
     ]
    }
   ],
   "source": [
    "square=[\"red\",\"black\",\"blue\",\"yellow\",\"purple\",\"orange\"]\n",
    "i=0\n",
    "for i in range(0,5):\n",
    "    square[i]=\"white\"\n",
    "print(square)"
   ]
  },
  {
   "cell_type": "code",
   "execution_count": 45,
   "id": "6ede7cde-e7ed-4c0e-ab3c-b3b3121bf1c8",
   "metadata": {},
   "outputs": [
    {
     "name": "stdout",
     "output_type": "stream",
     "text": [
      "['Brown', 'Brown', 'Brown']\n"
     ]
    }
   ],
   "source": [
    "square=[\"white\",\"blue\",\"pink\"]\n",
    "for i,a in enumerate(square):\n",
    "    square[i]=\"Brown\"\n",
    "print(square)"
   ]
  },
  {
   "cell_type": "markdown",
   "id": "fe5ae6ff-aed6-4d4f-9e96-8cbb6488c760",
   "metadata": {},
   "source": [
    "## while Loops"
   ]
  },
  {
   "cell_type": "code",
   "execution_count": 34,
   "id": "41dff8ef-03e1-4b53-a7b5-f4f0e3cdcc9b",
   "metadata": {},
   "outputs": [
    {
     "name": "stdout",
     "output_type": "stream",
     "text": [
      "['blue', 'blue', 'blue']\n"
     ]
    }
   ],
   "source": [
    "colour=[\"blue\",\"blue\",\"blue\",\"white\",\"blue\",\"black\"]\n",
    "new=[]\n",
    "i=0\n",
    "while(colour[i]==\"blue\"):\n",
    "    new.append(colour[i])\n",
    "    i=i+1\n",
    "print(new)"
   ]
  },
  {
   "cell_type": "code",
   "execution_count": null,
   "id": "27494e81-d336-41f9-98d5-525745c8a9fa",
   "metadata": {},
   "outputs": [],
   "source": []
  }
 ],
 "metadata": {
  "kernelspec": {
   "display_name": "Python 3 (ipykernel)",
   "language": "python",
   "name": "python3"
  },
  "language_info": {
   "codemirror_mode": {
    "name": "ipython",
    "version": 3
   },
   "file_extension": ".py",
   "mimetype": "text/x-python",
   "name": "python",
   "nbconvert_exporter": "python",
   "pygments_lexer": "ipython3",
   "version": "3.12.7"
  }
 },
 "nbformat": 4,
 "nbformat_minor": 5
}
