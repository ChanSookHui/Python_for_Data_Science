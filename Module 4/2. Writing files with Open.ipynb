{
 "cells": [
  {
   "cell_type": "markdown",
   "id": "b26c3b61-bf69-4779-999b-81bf0839ef07",
   "metadata": {},
   "source": [
    "## File Object"
   ]
  },
  {
   "cell_type": "code",
   "execution_count": 1,
   "id": "913ce74b-4b99-4d13-8ea0-f0b94a92409b",
   "metadata": {},
   "outputs": [],
   "source": [
    "#Open an empty file \n",
    "#The file will overwrite if the file name is same as the file exists in directory\n",
    "file1=open(\"Example2.txt\",\"w\")"
   ]
  },
  {
   "cell_type": "code",
   "execution_count": 2,
   "id": "460ffdf4-f443-46f7-a0b7-6d60624b6dfe",
   "metadata": {},
   "outputs": [
    {
     "data": {
      "text/plain": [
       "14"
      ]
     },
     "execution_count": 2,
     "metadata": {},
     "output_type": "execute_result"
    }
   ],
   "source": [
    "#Write the file\n",
    "file1.write(\"This is line A\")"
   ]
  },
  {
   "cell_type": "code",
   "execution_count": 3,
   "id": "cc56d8c3-d223-4b73-bc5d-2e0f1dca3b77",
   "metadata": {},
   "outputs": [
    {
     "name": "stdout",
     "output_type": "stream",
     "text": [
      "This is line A\n"
     ]
    }
   ],
   "source": [
    "with open(\"Example2.txt\",\"r\") as file1:\n",
    "    file_stuff=file1.read()\n",
    "    print(file_stuff)"
   ]
  },
  {
   "cell_type": "markdown",
   "id": "cc81067b-e821-4709-b091-14635c91665f",
   "metadata": {},
   "source": [
    "## With Statement"
   ]
  },
  {
   "cell_type": "code",
   "execution_count": 4,
   "id": "23701f2c-e913-4d3c-850a-0994d74cd41b",
   "metadata": {},
   "outputs": [
    {
     "name": "stdout",
     "output_type": "stream",
     "text": [
      "This is line 1\n",
      "This is line 2\n",
      "\n"
     ]
    }
   ],
   "source": [
    "with open(\"Example3.txt\",\"w\") as file1:\n",
    "    file1.write(\"This is line 1\\n\")  \n",
    "    file1.write(\"This is line 2\\n\") \n",
    "\n",
    "with open(\"Example3.txt\",\"r\") as file1:\n",
    "    file_stuff=file1.read()\n",
    "    print(file_stuff)"
   ]
  },
  {
   "cell_type": "code",
   "execution_count": 13,
   "id": "a788e68a-b9dc-4f33-8192-0fddfa79b9ed",
   "metadata": {},
   "outputs": [
    {
     "name": "stdout",
     "output_type": "stream",
     "text": [
      "This is A\n",
      "This is B\n"
     ]
    }
   ],
   "source": [
    "#loops\n",
    "lines=[\"This is A\\n\",\"This is B\"]\n",
    "with open(\"Example4.txt\",\"w\") as file1:\n",
    "    for line in lines:\n",
    "        file1.write(line)\n",
    "\n",
    "with open(\"Example4.txt\") as file1:\n",
    "    file_stuff=file1.read()\n",
    "    print(file_stuff)"
   ]
  },
  {
   "cell_type": "code",
   "execution_count": 14,
   "id": "f9e5118d-2101-4060-81e3-2094bf8944c7",
   "metadata": {},
   "outputs": [
    {
     "name": "stdout",
     "output_type": "stream",
     "text": [
      "This is A\n",
      "This is B\n",
      "This is C\n"
     ]
    }
   ],
   "source": [
    "#Append - add the element to the existing file without create a new file\n",
    "with open(\"Example4.txt\",\"a\") as file1:\n",
    "    file1.write(\"\\nThis is C\")\n",
    "\n",
    "with open(\"Example4.txt\") as file1:\n",
    "    file_stuff=file1.read()\n",
    "    print(file_stuff)"
   ]
  },
  {
   "cell_type": "code",
   "execution_count": 16,
   "id": "eccb800a-c50c-40c9-b070-c184c52f107f",
   "metadata": {},
   "outputs": [
    {
     "name": "stdout",
     "output_type": "stream",
     "text": [
      "This is A\n",
      "This is B\n",
      "This is C\n"
     ]
    }
   ],
   "source": [
    "#Copy element from fgile to file\n",
    "with open(\"Example4.txt\",\"r\") as read:\n",
    "    with open(\"Example5.txt\",\"w\") as write:\n",
    "        for line in read:\n",
    "            write.write(line)\n",
    "\n",
    "with open(\"Example5.txt\") as file1:\n",
    "    file_stuff=file1.read()\n",
    "    print(file_stuff)"
   ]
  },
  {
   "cell_type": "code",
   "execution_count": null,
   "id": "04ac928f-ea32-415d-9a02-e20688947477",
   "metadata": {},
   "outputs": [],
   "source": []
  }
 ],
 "metadata": {
  "kernelspec": {
   "display_name": "Python 3 (ipykernel)",
   "language": "python",
   "name": "python3"
  },
  "language_info": {
   "codemirror_mode": {
    "name": "ipython",
    "version": 3
   },
   "file_extension": ".py",
   "mimetype": "text/x-python",
   "name": "python",
   "nbconvert_exporter": "python",
   "pygments_lexer": "ipython3",
   "version": "3.12.7"
  }
 },
 "nbformat": 4,
 "nbformat_minor": 5
}
