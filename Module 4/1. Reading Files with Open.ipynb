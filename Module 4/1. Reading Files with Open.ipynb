{
 "cells": [
  {
   "cell_type": "markdown",
   "id": "15232b83-95eb-47c9-849f-50b6d8481476",
   "metadata": {},
   "source": [
    "## File Object\n",
    "- Syntax: file_object=open(file path,mode)\n",
    "- mode:\n",
    "  - r: reading\n",
    "  - w: writing\n",
    "  - a: appending"
   ]
  },
  {
   "cell_type": "code",
   "execution_count": 1,
   "id": "84c09453-2460-4323-b092-f2a44dd25152",
   "metadata": {},
   "outputs": [],
   "source": [
    "#Same location\n",
    "file1=open(\"Example.txt\",\"r\")"
   ]
  },
  {
   "cell_type": "code",
   "execution_count": 2,
   "id": "b3abe7d2-104c-4d28-b905-1baa1eb00b04",
   "metadata": {},
   "outputs": [],
   "source": [
    "file_1=open(\"C:/Users/sookh/Python_for_Data_Science/Module 4/Example.txt\",\"r\")"
   ]
  },
  {
   "cell_type": "code",
   "execution_count": 3,
   "id": "f5f0f0a5-9452-424f-b722-d7a96ebd50f6",
   "metadata": {},
   "outputs": [
    {
     "data": {
      "text/plain": [
       "'Example.txt'"
      ]
     },
     "execution_count": 3,
     "metadata": {},
     "output_type": "execute_result"
    }
   ],
   "source": [
    "#Obtain the file name\n",
    "file1.name"
   ]
  },
  {
   "cell_type": "code",
   "execution_count": 4,
   "id": "3f5d81b5-483f-4492-9156-f05c63891ca4",
   "metadata": {},
   "outputs": [
    {
     "data": {
      "text/plain": [
       "'r'"
      ]
     },
     "execution_count": 4,
     "metadata": {},
     "output_type": "execute_result"
    }
   ],
   "source": [
    "#Mode using\n",
    "file1.mode"
   ]
  },
  {
   "cell_type": "code",
   "execution_count": 5,
   "id": "b2b86277-e64e-41b7-87cf-7e59d05129fe",
   "metadata": {},
   "outputs": [],
   "source": [
    "#Close the file object\n",
    "file1.close()"
   ]
  },
  {
   "cell_type": "markdown",
   "id": "8ddd6285-988e-4c6d-8c59-02a3f3f57db8",
   "metadata": {},
   "source": [
    "## With Statement"
   ]
  },
  {
   "cell_type": "code",
   "execution_count": 6,
   "id": "fece9d9a-49a4-496e-bfc1-8257550a39f2",
   "metadata": {},
   "outputs": [
    {
     "name": "stdout",
     "output_type": "stream",
     "text": [
      "This is Line 1\n",
      "This is Line 2\n",
      "This is Line 3\n",
      "True\n"
     ]
    }
   ],
   "source": [
    "#read\n",
    "with open(\"Example.txt\",\"r\") as file1: #file object\n",
    "    file_stuff=file1.read()\n",
    "    print(file_stuff)\n",
    "print(file1.closed) #close file object"
   ]
  },
  {
   "cell_type": "code",
   "execution_count": 7,
   "id": "9ca89750-f5ed-40da-a29c-c9776b5c6e17",
   "metadata": {},
   "outputs": [
    {
     "name": "stdout",
     "output_type": "stream",
     "text": [
      "This is Line 1\n",
      "This is Line 2\n",
      "This is Line 3\n"
     ]
    }
   ],
   "source": [
    "print(file_stuff)"
   ]
  },
  {
   "cell_type": "code",
   "execution_count": 14,
   "id": "02c8bf2f-9fd2-4a30-9399-0094072f9834",
   "metadata": {},
   "outputs": [
    {
     "name": "stdout",
     "output_type": "stream",
     "text": [
      "['This is Line 1\\n', 'This is Line 2\\n', 'This is Line 3']\n"
     ]
    }
   ],
   "source": [
    "#readline\n",
    "with open(\"Example.txt\",\"r\") as file1:\n",
    "    file_stuff=file1.readlines()\n",
    "    print(file_stuff)"
   ]
  },
  {
   "cell_type": "code",
   "execution_count": 16,
   "id": "27cfd0ec-5246-4c37-9b53-e08ba16f12a9",
   "metadata": {},
   "outputs": [
    {
     "name": "stdout",
     "output_type": "stream",
     "text": [
      "This is Line 1\n",
      "\n"
     ]
    }
   ],
   "source": [
    "print(file_stuff[0])"
   ]
  },
  {
   "cell_type": "code",
   "execution_count": 17,
   "id": "ff300b48-fd04-4006-917c-f61888063100",
   "metadata": {},
   "outputs": [
    {
     "name": "stdout",
     "output_type": "stream",
     "text": [
      "This is Line 3\n"
     ]
    }
   ],
   "source": [
    "print(file_stuff[2])"
   ]
  },
  {
   "cell_type": "code",
   "execution_count": 23,
   "id": "04efe447-3e52-469a-a090-8afac452b912",
   "metadata": {},
   "outputs": [
    {
     "name": "stdout",
     "output_type": "stream",
     "text": [
      "This is Line 1\n",
      "\n"
     ]
    }
   ],
   "source": [
    "#Read the first line\n",
    "with open(\"Example.txt\") as file1:\n",
    "    file_stuff=file1.readline() #read first line\n",
    "    print(file_stuff)"
   ]
  },
  {
   "cell_type": "code",
   "execution_count": 22,
   "id": "8746a689-2673-4fce-b0d8-741356d311a2",
   "metadata": {},
   "outputs": [
    {
     "name": "stdout",
     "output_type": "stream",
     "text": [
      "This is Line 1\n",
      "\n",
      "This is Line 2\n",
      "\n",
      "This is Line 3\n"
     ]
    }
   ],
   "source": [
    "with open(\"Example.txt\") as file1:\n",
    "    file_stuff=file1.readline() #read first line\n",
    "    print(file_stuff)\n",
    "    file_stuff=file1.readline() #read second line\n",
    "    print(file_stuff)\n",
    "    file_stuff=file1.readline() #read third line\n",
    "    print(file_stuff)"
   ]
  },
  {
   "cell_type": "code",
   "execution_count": 31,
   "id": "64ea0dfc-f7d9-4ea9-b79c-aaae6ef285a9",
   "metadata": {},
   "outputs": [
    {
     "name": "stdout",
     "output_type": "stream",
     "text": [
      "This is Line 1\n",
      "\n",
      "This is Line 2\n",
      "\n",
      "This is Line 3\n"
     ]
    }
   ],
   "source": [
    "#loops\n",
    "with open(\"Example.txt\") as file1:\n",
    "    for line in file1:\n",
    "        print(line)"
   ]
  },
  {
   "cell_type": "code",
   "execution_count": 29,
   "id": "568151e9-1f60-4da0-bd3c-a8fd0c299132",
   "metadata": {},
   "outputs": [
    {
     "name": "stdout",
     "output_type": "stream",
     "text": [
      "This is Line 1\n",
      "\n",
      "This\n",
      " is Line\n"
     ]
    }
   ],
   "source": [
    "#Read the element in the line\n",
    "with open(\"Example.txt\") as file1:\n",
    "    file_stuff=file1.readline(16) #read first line and print the first 16 character\n",
    "    print(file_stuff)    \n",
    "    file_stuff=file1.readline(4) #read second line and print the first 4 character\n",
    "    print(file_stuff)\n",
    "    file_stuff=file1.readline(8) #read second line and print 8 character after \"This\" in second line\n",
    "    print(file_stuff)"
   ]
  }
 ],
 "metadata": {
  "kernelspec": {
   "display_name": "Python 3 (ipykernel)",
   "language": "python",
   "name": "python3"
  },
  "language_info": {
   "codemirror_mode": {
    "name": "ipython",
    "version": 3
   },
   "file_extension": ".py",
   "mimetype": "text/x-python",
   "name": "python",
   "nbconvert_exporter": "python",
   "pygments_lexer": "ipython3",
   "version": "3.12.7"
  }
 },
 "nbformat": 4,
 "nbformat_minor": 5
}
