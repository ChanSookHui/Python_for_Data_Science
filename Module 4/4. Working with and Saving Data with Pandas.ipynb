{
 "cells": [
  {
   "cell_type": "code",
   "execution_count": 9,
   "id": "99e1a357-12e4-420f-b0dd-b5e1e812dc3f",
   "metadata": {},
   "outputs": [
    {
     "data": {
      "text/html": [
       "<div>\n",
       "<style scoped>\n",
       "    .dataframe tbody tr th:only-of-type {\n",
       "        vertical-align: middle;\n",
       "    }\n",
       "\n",
       "    .dataframe tbody tr th {\n",
       "        vertical-align: top;\n",
       "    }\n",
       "\n",
       "    .dataframe thead th {\n",
       "        text-align: right;\n",
       "    }\n",
       "</style>\n",
       "<table border=\"1\" class=\"dataframe\">\n",
       "  <thead>\n",
       "    <tr style=\"text-align: right;\">\n",
       "      <th></th>\n",
       "      <th>Year</th>\n",
       "      <th>Name</th>\n",
       "    </tr>\n",
       "  </thead>\n",
       "  <tbody>\n",
       "    <tr>\n",
       "      <th>0</th>\n",
       "      <td>1990</td>\n",
       "      <td>A</td>\n",
       "    </tr>\n",
       "    <tr>\n",
       "      <th>1</th>\n",
       "      <td>1990</td>\n",
       "      <td>B</td>\n",
       "    </tr>\n",
       "    <tr>\n",
       "      <th>2</th>\n",
       "      <td>1990</td>\n",
       "      <td>C</td>\n",
       "    </tr>\n",
       "    <tr>\n",
       "      <th>3</th>\n",
       "      <td>2000</td>\n",
       "      <td>A</td>\n",
       "    </tr>\n",
       "    <tr>\n",
       "      <th>4</th>\n",
       "      <td>2000</td>\n",
       "      <td>A</td>\n",
       "    </tr>\n",
       "    <tr>\n",
       "      <th>5</th>\n",
       "      <td>2000</td>\n",
       "      <td>C</td>\n",
       "    </tr>\n",
       "    <tr>\n",
       "      <th>6</th>\n",
       "      <td>1999</td>\n",
       "      <td>D</td>\n",
       "    </tr>\n",
       "    <tr>\n",
       "      <th>7</th>\n",
       "      <td>1987</td>\n",
       "      <td>E</td>\n",
       "    </tr>\n",
       "    <tr>\n",
       "      <th>8</th>\n",
       "      <td>2022</td>\n",
       "      <td>O</td>\n",
       "    </tr>\n",
       "  </tbody>\n",
       "</table>\n",
       "</div>"
      ],
      "text/plain": [
       "   Year Name\n",
       "0  1990    A\n",
       "1  1990    B\n",
       "2  1990    C\n",
       "3  2000    A\n",
       "4  2000    A\n",
       "5  2000    C\n",
       "6  1999    D\n",
       "7  1987    E\n",
       "8  2022    O"
      ]
     },
     "execution_count": 9,
     "metadata": {},
     "output_type": "execute_result"
    }
   ],
   "source": [
    "import pandas as pd\n",
    "dic={\"Year\":[1990,1990,1990,2000,2000,2000,1999,1987,2022],\"Name\":[\"A\",\"B\",\"C\",\"A\",\"A\",\"C\",\"D\",\"E\",\"O\"]}\n",
    "song=pd.DataFrame(dic)\n",
    "song.iloc[:,:]"
   ]
  },
  {
   "cell_type": "code",
   "execution_count": 12,
   "id": "27fc79a1-5247-4b67-bf04-3045c20aec0a",
   "metadata": {},
   "outputs": [
    {
     "data": {
      "text/plain": [
       "array(['A', 'B', 'C', 'D', 'E', 'O'], dtype=object)"
      ]
     },
     "execution_count": 12,
     "metadata": {},
     "output_type": "execute_result"
    }
   ],
   "source": [
    "#List Uunique values\n",
    "song[\"Name\"].unique()"
   ]
  },
  {
   "cell_type": "code",
   "execution_count": 13,
   "id": "b328e039-fe63-4c3a-8dbd-9f5d80366135",
   "metadata": {},
   "outputs": [
    {
     "data": {
      "text/plain": [
       "array([1990, 2000, 1999, 1987, 2022], dtype=int64)"
      ]
     },
     "execution_count": 13,
     "metadata": {},
     "output_type": "execute_result"
    }
   ],
   "source": [
    "song[\"Year\"].unique()"
   ]
  },
  {
   "cell_type": "code",
   "execution_count": 14,
   "id": "32f05eb2-a069-499a-ba97-0be980cb7aef",
   "metadata": {},
   "outputs": [
    {
     "data": {
      "text/plain": [
       "0    False\n",
       "1    False\n",
       "2    False\n",
       "3    False\n",
       "4    False\n",
       "5    False\n",
       "6    False\n",
       "7    False\n",
       "8     True\n",
       "Name: Year, dtype: bool"
      ]
     },
     "execution_count": 14,
     "metadata": {},
     "output_type": "execute_result"
    }
   ],
   "source": [
    "#Find the element that fulfill the condition\n",
    "#Boolean\n",
    "song[\"Year\"]>2000"
   ]
  },
  {
   "cell_type": "code",
   "execution_count": 19,
   "id": "3f92aa71-aa17-4a46-b0c6-01cef9226100",
   "metadata": {},
   "outputs": [
    {
     "name": "stdout",
     "output_type": "stream",
     "text": [
      "   Year Name\n",
      "8  2022    O\n"
     ]
    }
   ],
   "source": [
    "song1=song[song[\"Year\"]>2000]\n",
    "print(song1)"
   ]
  },
  {
   "cell_type": "markdown",
   "id": "5e5546e9-6a51-4431-bb34-557661133165",
   "metadata": {},
   "source": [
    "## Save Data Frame"
   ]
  },
  {
   "cell_type": "code",
   "execution_count": 27,
   "id": "663c675c-b0f2-418c-a7f0-80cf7db93af1",
   "metadata": {},
   "outputs": [],
   "source": [
    "#Save as CSV\n",
    "song1.to_csv(\"NewSong.csv\",index=False) #No obs"
   ]
  },
  {
   "cell_type": "code",
   "execution_count": 28,
   "id": "5f3343ba-70cd-4833-85cd-c373f9f3e5ce",
   "metadata": {},
   "outputs": [],
   "source": [
    "#Save as txt\n",
    "song1.to_csv(\"NewSong.txt\", index=False, header=False) #No obs and hearder "
   ]
  },
  {
   "cell_type": "code",
   "execution_count": null,
   "id": "0e297364-0576-4629-a330-aefda36dbf52",
   "metadata": {},
   "outputs": [],
   "source": []
  }
 ],
 "metadata": {
  "kernelspec": {
   "display_name": "Python 3 (ipykernel)",
   "language": "python",
   "name": "python3"
  },
  "language_info": {
   "codemirror_mode": {
    "name": "ipython",
    "version": 3
   },
   "file_extension": ".py",
   "mimetype": "text/x-python",
   "name": "python",
   "nbconvert_exporter": "python",
   "pygments_lexer": "ipython3",
   "version": "3.12.7"
  }
 },
 "nbformat": 4,
 "nbformat_minor": 5
}
