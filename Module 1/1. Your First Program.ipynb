{
 "cells": [
  {
   "cell_type": "code",
   "execution_count": 4,
   "id": "c5d0201e-f7ee-4ab7-885a-bc352d6bfd08",
   "metadata": {},
   "outputs": [
    {
     "name": "stdout",
     "output_type": "stream",
     "text": [
      "Ah Lim\n"
     ]
    }
   ],
   "source": [
    "#print Ah Lim\n",
    "print('Ah Lim')"
   ]
  },
  {
   "cell_type": "code",
   "execution_count": 5,
   "id": "ca3cd62c-6726-47a6-9fbd-6850f178420b",
   "metadata": {},
   "outputs": [
    {
     "name": "stdout",
     "output_type": "stream",
     "text": [
      "Hello\n",
      "World!\n"
     ]
    }
   ],
   "source": [
    "print(\"Hello\\nWorld!\")"
   ]
  },
  {
   "cell_type": "code",
   "execution_count": null,
   "id": "385b8e0d-75a2-46c1-ae08-a3b4f2624a6a",
   "metadata": {},
   "outputs": [],
   "source": []
  }
 ],
 "metadata": {
  "kernelspec": {
   "display_name": "Python 3 (ipykernel)",
   "language": "python",
   "name": "python3"
  },
  "language_info": {
   "codemirror_mode": {
    "name": "ipython",
    "version": 3
   },
   "file_extension": ".py",
   "mimetype": "text/x-python",
   "name": "python",
   "nbconvert_exporter": "python",
   "pygments_lexer": "ipython3",
   "version": "3.12.7"
  }
 },
 "nbformat": 4,
 "nbformat_minor": 5
}
