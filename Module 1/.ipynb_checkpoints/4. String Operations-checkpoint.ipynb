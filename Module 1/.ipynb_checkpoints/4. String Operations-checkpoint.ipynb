{
 "cells": [
  {
   "cell_type": "markdown",
   "id": "8cd203f5-c170-4ded-9ec8-8f38f775fef6",
   "metadata": {},
   "source": [
    "## Strings"
   ]
  },
  {
   "cell_type": "code",
   "execution_count": 1,
   "id": "56b559d8-2c4e-43e9-8d91-ad5bf0ebd9a5",
   "metadata": {},
   "outputs": [],
   "source": [
    "Name=\"Ah Chan\""
   ]
  },
  {
   "cell_type": "code",
   "execution_count": 2,
   "id": "21d9824b-9248-4b74-9b91-37997208a4f8",
   "metadata": {},
   "outputs": [
    {
     "data": {
      "text/plain": [
       "'A'"
      ]
     },
     "execution_count": 2,
     "metadata": {},
     "output_type": "execute_result"
    }
   ],
   "source": [
    "Name[0]"
   ]
  },
  {
   "cell_type": "code",
   "execution_count": 6,
   "id": "707c948b-53a7-45a1-96be-4d506bffdc40",
   "metadata": {},
   "outputs": [
    {
     "data": {
      "text/plain": [
       "' '"
      ]
     },
     "execution_count": 6,
     "metadata": {},
     "output_type": "execute_result"
    }
   ],
   "source": [
    "Name[2]"
   ]
  },
  {
   "cell_type": "code",
   "execution_count": 5,
   "id": "db1812ee-bb97-4710-a61f-aaba740569d7",
   "metadata": {},
   "outputs": [
    {
     "data": {
      "text/plain": [
       "'n'"
      ]
     },
     "execution_count": 5,
     "metadata": {},
     "output_type": "execute_result"
    }
   ],
   "source": [
    "Name[-1]"
   ]
  },
  {
   "cell_type": "code",
   "execution_count": 41,
   "id": "59265c97-103f-4e01-9c97-5892c363f246",
   "metadata": {
    "scrolled": true
   },
   "outputs": [
    {
     "data": {
      "text/plain": [
       "'Ah'"
      ]
     },
     "execution_count": 41,
     "metadata": {},
     "output_type": "execute_result"
    }
   ],
   "source": [
    "#Slicing\n",
    "#Count start from 1\n",
    "Name[0:2]"
   ]
  },
  {
   "cell_type": "code",
   "execution_count": 10,
   "id": "d7655cac-1cde-4468-ad2c-859dcccd627f",
   "metadata": {},
   "outputs": [
    {
     "data": {
      "text/plain": [
       "'A hn'"
      ]
     },
     "execution_count": 10,
     "metadata": {},
     "output_type": "execute_result"
    }
   ],
   "source": [
    "#Stride\n",
    "\n",
    "#Every second variable\n",
    "Name[::2]"
   ]
  },
  {
   "cell_type": "code",
   "execution_count": 12,
   "id": "cac87538-40ce-4f67-b28e-d04ed4699a8d",
   "metadata": {},
   "outputs": [
    {
     "data": {
      "text/plain": [
       "'A h'"
      ]
     },
     "execution_count": 12,
     "metadata": {},
     "output_type": "execute_result"
    }
   ],
   "source": [
    "#Every second variable up to the fifth variable\n",
    "Name[0:5:2]"
   ]
  },
  {
   "cell_type": "markdown",
   "id": "3f7684fe-50f2-4c38-85f9-846174a24708",
   "metadata": {},
   "source": [
    "## Tuples"
   ]
  },
  {
   "cell_type": "code",
   "execution_count": 15,
   "id": "f696967d-907c-488a-9826-b42201f53799",
   "metadata": {},
   "outputs": [
    {
     "data": {
      "text/plain": [
       "7"
      ]
     },
     "execution_count": 15,
     "metadata": {},
     "output_type": "execute_result"
    }
   ],
   "source": [
    "#Slicing\n",
    "len(\"Ah Chan\")"
   ]
  },
  {
   "cell_type": "code",
   "execution_count": 19,
   "id": "8c4c7093-2b7e-4aa8-979e-361825b46169",
   "metadata": {},
   "outputs": [
    {
     "name": "stdout",
     "output_type": "stream",
     "text": [
      "Ah Chan is the best\n"
     ]
    }
   ],
   "source": [
    "Name=\"Ah Chan\"\n",
    "Statement=Name+\" is the best\"\n",
    "print(Statement)"
   ]
  },
  {
   "cell_type": "code",
   "execution_count": 20,
   "id": "c8fcb670-caad-46f3-a2cf-56583afff78f",
   "metadata": {},
   "outputs": [
    {
     "data": {
      "text/plain": [
       "'Ah ChanAh ChanAh Chan'"
      ]
     },
     "execution_count": 20,
     "metadata": {},
     "output_type": "execute_result"
    }
   ],
   "source": [
    "3*Name"
   ]
  },
  {
   "cell_type": "markdown",
   "id": "0a67b6de-16f8-434b-beea-7642f875f39d",
   "metadata": {},
   "source": [
    "## Escape Sequences"
   ]
  },
  {
   "cell_type": "code",
   "execution_count": 21,
   "id": "d06f8dbd-2e7d-41c6-ac8a-68e1430e1598",
   "metadata": {},
   "outputs": [
    {
     "name": "stdout",
     "output_type": "stream",
     "text": [
      "Ah Chan\n",
      "is the best\n"
     ]
    }
   ],
   "source": [
    "#Next line\n",
    "print(\"Ah Chan\\nis the best\")"
   ]
  },
  {
   "cell_type": "code",
   "execution_count": 23,
   "id": "3140a169-1149-42b3-b99b-df9bc771ae3d",
   "metadata": {},
   "outputs": [
    {
     "name": "stdout",
     "output_type": "stream",
     "text": [
      "Ah Chan \tis the best\n"
     ]
    }
   ],
   "source": [
    "#Tab\n",
    "print(\"Ah Chan \\tis the best\")"
   ]
  },
  {
   "cell_type": "code",
   "execution_count": 26,
   "id": "b6081966-01fa-4499-899c-f96d12da8719",
   "metadata": {},
   "outputs": [
    {
     "name": "stdout",
     "output_type": "stream",
     "text": [
      "Ah Chan \\ is the best\n",
      "Ah Chan \\ is the best\n"
     ]
    }
   ],
   "source": [
    "#Place a back slash \\\n",
    "print(\"Ah Chan \\\\ is the best\")\n",
    "print(r\"Ah Chan \\ is the best\")"
   ]
  },
  {
   "cell_type": "markdown",
   "id": "da226e00-9104-4bcb-9455-033eda10d85e",
   "metadata": {},
   "source": [
    "## String Method"
   ]
  },
  {
   "cell_type": "code",
   "execution_count": 29,
   "id": "29e0c7c7-1cce-430e-a3ce-311c37c4b0e1",
   "metadata": {},
   "outputs": [
    {
     "name": "stdout",
     "output_type": "stream",
     "text": [
      "AH CHAN\n"
     ]
    }
   ],
   "source": [
    "A=\"Ah Chan\"\n",
    "B=A.upper()\n",
    "print(B)"
   ]
  },
  {
   "cell_type": "code",
   "execution_count": 38,
   "id": "77957c3f-4875-486a-9455-2a23bba7585a",
   "metadata": {},
   "outputs": [
    {
     "name": "stdout",
     "output_type": "stream",
     "text": [
      "Ah Lim\n"
     ]
    }
   ],
   "source": [
    "#Replace the string\n",
    "A=\"Ah Chan\"\n",
    "B=A.replace(\"Chan\",\"Lim\")\n",
    "print(B)"
   ]
  },
  {
   "cell_type": "code",
   "execution_count": 35,
   "id": "973312cb-7e5b-4a11-b9bc-3c9a0f2c8a34",
   "metadata": {},
   "outputs": [
    {
     "data": {
      "text/plain": [
       "3"
      ]
     },
     "execution_count": 35,
     "metadata": {},
     "output_type": "execute_result"
    }
   ],
   "source": [
    "#Find the sub-string\n",
    "#Output is the first index \n",
    "Name=\"Ah Chan\"\n",
    "Name.find(\"Chan\")"
   ]
  },
  {
   "cell_type": "code",
   "execution_count": 37,
   "id": "957bb433-baff-4b91-9266-0036f518b484",
   "metadata": {},
   "outputs": [
    {
     "data": {
      "text/plain": [
       "-1"
      ]
     },
     "execution_count": 37,
     "metadata": {},
     "output_type": "execute_result"
    }
   ],
   "source": [
    "#Output return -1 if the sub-string is not in the string\n",
    "Name.find(\"Lim\")"
   ]
  }
 ],
 "metadata": {
  "kernelspec": {
   "display_name": "Python 3 (ipykernel)",
   "language": "python",
   "name": "python3"
  },
  "language_info": {
   "codemirror_mode": {
    "name": "ipython",
    "version": 3
   },
   "file_extension": ".py",
   "mimetype": "text/x-python",
   "name": "python",
   "nbconvert_exporter": "python",
   "pygments_lexer": "ipython3",
   "version": "3.12.7"
  }
 },
 "nbformat": 4,
 "nbformat_minor": 5
}
